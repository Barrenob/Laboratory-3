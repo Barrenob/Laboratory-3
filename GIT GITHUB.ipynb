{
 "cells": [
  {
   "cell_type": "markdown",
   "id": "f21ca242-b05f-417c-8079-d801a56c7442",
   "metadata": {
    "jp-MarkdownHeadingCollapsed": true,
    "tags": []
   },
   "source": [
    "## 1. Que es GIT"
   ]
  },
  {
   "cell_type": "markdown",
   "id": "7bd0dd22-61eb-4eeb-a11b-ff9925af4db8",
   "metadata": {},
   "source": [
    "Git es un **sistema de control de versiones distribuido de código abierto** desarrollado por Linus Torvalds, el creador de Linux."
   ]
  },
  {
   "cell_type": "markdown",
   "id": "a4d32ab8-3bd0-47b4-b014-483919b3e76a",
   "metadata": {},
   "source": [
    "El control de versiones distribuido **permite a los desarrolladores descargar un software, realizar\n",
    "cambios y subir la versión que han modificado.** Todas las modificaciones \n",
    "subidas se guardan en versiones independientes, \n",
    "**no sobrescribiendo en el archivo original.**"
   ]
  },
  {
   "cell_type": "markdown",
   "id": "677fc7aa-0327-4f6b-8e83-e355fe24cfcf",
   "metadata": {},
   "source": [
    ">WebEmpresa indica que:\n",
    ">La diferencia entre el control de versiones y Git, es >que en Git cada desarrollador tendrá en el ordenador >una copia del código fuente original y de las >versiones disponibles del proyecto, permitiendo la >ramificación y fusión."
   ]
  },
  {
   "cell_type": "markdown",
   "id": "9b8f152f-2220-45bc-8c7d-655fc2c6f22c",
   "metadata": {},
   "source": [
    "De esta forma todos los desarrolladores interesados en el proyecto podrán ver las modificaciones realizadas y contribuir mejorando el código del Software."
   ]
  },
  {
   "cell_type": "markdown",
   "id": "96e316d9-f0e5-4e0b-af8d-512d15b6acc1",
   "metadata": {},
   "source": [
    "Cuando nos referimos a la parte del **hub** hablamos de lo que hace especial a este **Git, la comunidad e interacción con otros usuarios.**"
   ]
  },
  {
   "cell_type": "markdown",
   "id": "7c20de91-bb7b-438e-b230-738dec4905d8",
   "metadata": {},
   "source": [
    "### Aspectos básicos de Git"
   ]
  },
  {
   "cell_type": "markdown",
   "id": "c150eb1e-0d61-48cc-bec8-641f09248787",
   "metadata": {},
   "source": [
    "Cada vez que se guarda el trabajo, Git crea una confirmación. Una confirmación es una instantánea de todos los archivos en un momento dado. **Si un archivo no ha cambiado de una confirmación a la siguiente, Git usa el archivo almacenado anteriormente.** Este diseño difiere de otros sistemas que almacenan una versión inicial de un archivo y mantienen un registro de las diferencias a lo largo del tiempo."
   ]
  },
  {
   "cell_type": "markdown",
   "id": "bf52265a-9bca-4f75-b889-5524255cc93f",
   "metadata": {},
   "source": [
    "### Ramas"
   ]
  },
  {
   "cell_type": "markdown",
   "id": "a739c85d-4ced-4a45-bfb7-e51e7b105333",
   "metadata": {},
   "source": [
    "Cada desarrollador guarda los cambios en su propio repositorio de código local. Como resultado, puede haber muchos cambios diferentes basados en la misma confirmación. Git proporciona herramientas para aislar los cambios y volver a combinarlos posteriormente. Las ramas, que son punteros ligeros para el trabajo en curso, administran esta separación. Una vez finalizado el trabajo creado en una rama, se puede combinar de nuevo en la rama principal (o troncal) del equipo."
   ]
  },
  {
   "cell_type": "markdown",
   "id": "1d57eb57-a1e5-4838-9eea-d1fb57c78429",
   "metadata": {},
   "source": [
    "### Archivos y confirmaciones"
   ]
  },
  {
   "cell_type": "markdown",
   "id": "f9037dad-dd47-436c-a7f0-087ea8d998c3",
   "metadata": {},
   "source": [
    "Los archivos de Git se encuentran en uno de estos tres estados: modificados, almacenados provisionalmente o confirmados. Cuando se modifica un archivo por primera vez, los cambios solo existen en el directorio de trabajo. Todavía no forman parte de una confirmación ni del historial de desarrollo. El desarrollador debe almacenar provisionalmente los archivos modificados que se incluirán en la confirmación. El área de almacenamiento provisional contiene todos los cambios que se incluirán en la siguiente confirmación."
   ]
  },
  {
   "cell_type": "markdown",
   "id": "5c617358-d9f4-4888-88f6-d9adf890cd54",
   "metadata": {
    "tags": []
   },
   "source": [
    "### Desarrollo Simultáneo"
   ]
  },
  {
   "cell_type": "markdown",
   "id": "55d11f54-0e44-41f4-b4e2-9272df61bcd9",
   "metadata": {},
   "source": [
    "Todos los usuarios tienen su propia copia local de código y pueden trabajar simultáneamente en sus propias ramas. Git funciona sin conexión, ya que casi todas las operaciones son locales."
   ]
  },
  {
   "cell_type": "markdown",
   "id": "7ec36f9c-d060-4d1b-ac06-ffa4449e49be",
   "metadata": {},
   "source": [
    "### Git funciona con cualquier equipo"
   ]
  },
  {
   "cell_type": "markdown",
   "id": "823b75c6-9315-4ffa-913a-ce8e9d72559a",
   "metadata": {},
   "source": [
    "Utilizar Git con una herramienta de administración de código fuente aumenta la productividad de un equipo al fomentar la colaboración, aplicar directivas, automatizar procesos y mejorar la visibilidad y la rastreabilidad del trabajo. El equipo puede decidirse por herramientas individuales para el control de versiones, el seguimiento de los elementos de trabajo y la integración e implementación continuas."
   ]
  },
  {
   "cell_type": "markdown",
   "id": "addaaacd-3b09-43a0-9918-575b19e4eb4d",
   "metadata": {
    "jp-MarkdownHeadingCollapsed": true,
    "tags": []
   },
   "source": [
    "## 2. Que es GITHUB"
   ]
  },
  {
   "cell_type": "markdown",
   "id": "2b9e2879-e7f1-4b52-bc5d-d184f8e812ec",
   "metadata": {},
   "source": [
    "**Github** es un repositorio online gratuito que **permite gestionar proyectos y controlar versiones de código**. Es muy utilizado por desarrolladores para almacenar sus trabajos dando así la oportunidad\n",
    "a millones de personas de todo el mundo a cooperar en ellos."
   ]
  },
  {
   "cell_type": "markdown",
   "id": "13969d01-6fae-4660-b03e-e0005b210cdb",
   "metadata": {},
   "source": [
    "Se podría hablar de **Github** como la red social pensada para desarrolladores, **siendo \n",
    "este repositorio uno de los más usados a nivel mundial.**"
   ]
  },
  {
   "cell_type": "markdown",
   "id": "de63e2bb-f4c3-41ba-b7d8-ad899e5d0bb9",
   "metadata": {},
   "source": [
    "Podemos seguir e interactuar con personas interesadas en un tipo de proyecto en concreto, dando a conocer \n",
    "los nuestros o cooperando en el proyecto de terceros."
   ]
  },
  {
   "cell_type": "markdown",
   "id": "397c4fb0-5bf7-4078-abbf-ac6a19a56227",
   "metadata": {
    "jp-MarkdownHeadingCollapsed": true,
    "tags": []
   },
   "source": [
    "## 2.1 ¿Cómo funciona Github?"
   ]
  },
  {
   "cell_type": "markdown",
   "id": "f10a563d-c32d-4769-a870-195aef212cf4",
   "metadata": {},
   "source": [
    "Para comprender cómo funciona Github y por qué es usado por miles de personas en todo el mundo tendremos que ver qué partes lo forman."
   ]
  },
  {
   "cell_type": "markdown",
   "id": "14130965-9518-406d-9227-ab2adede52c8",
   "metadata": {},
   "source": [
    "### Repositorio"
   ]
  },
  {
   "cell_type": "markdown",
   "id": "cc892438-c9b1-462c-b29d-cc0edacbed1e",
   "metadata": {},
   "source": [
    "Un repositorio es la **ubicación o ruta en la que se almacena toda la información** de un proyecto como imágenes, código, carpetas, documentos, etc."
   ]
  },
  {
   "cell_type": "markdown",
   "id": "675e8956-c0bc-4b51-8ed5-1eabaa635081",
   "metadata": {},
   "source": [
    "Cada proyecto contaría con su propio repositorio único, por lo que la ruta de acceso será exclusiva para el proyecto."
   ]
  },
  {
   "cell_type": "markdown",
   "id": "f8a6c604-4986-4b15-ab7d-6f393bc1ff61",
   "metadata": {},
   "source": [
    "### Brach (ramificaciones)"
   ]
  },
  {
   "cell_type": "markdown",
   "id": "94029f16-24ba-4c3f-b3e3-2618758256f5",
   "metadata": {},
   "source": [
    "En el caso de que queramos trabajar una parte concreta de nuestro proyecto de forma aislada no afectando al repositorio principal, tendremos que hacerlo mediante Branch."
   ]
  },
  {
   "cell_type": "markdown",
   "id": "34d750bb-6586-4c4a-bbee-a79dfeafbc87",
   "metadata": {},
   "source": [
    "**El Branch creará una copia exacta de nuestro proyecto para hacer pruebas** sin miedo a equivocarnos y que afecte a todo el trabajo realizado."
   ]
  },
  {
   "cell_type": "markdown",
   "id": "5c68a98c-dd90-4e47-8064-8561dd2e2c32",
   "metadata": {},
   "source": [
    "### Pull Request (Fusión)"
   ]
  },
  {
   "cell_type": "markdown",
   "id": "ae68a06c-9be9-47ac-958e-fef1ca396c02",
   "metadata": {},
   "source": [
    "Cada vez que subas un nuevo cambio en una rama del proyecto, puedes avisar a los demás colaboradores para que validen o no tu pull request, o si encuentran posibles mejoras poder comentarlas."
   ]
  },
  {
   "cell_type": "markdown",
   "id": "8a4898dd-226a-46e4-b50b-085f5e277b7a",
   "metadata": {},
   "source": [
    "### Tag"
   ]
  },
  {
   "cell_type": "markdown",
   "id": "5d6aaf98-b2f3-4fec-9ec7-fc062dc5316d",
   "metadata": {},
   "source": [
    "**Los Tag permiten controlar el estado de un repositorio dando información** a otros usuarios de en qué versión se encuentra actualmente el proyecto."
   ]
  },
  {
   "cell_type": "markdown",
   "id": "bc456ecc-6956-4d65-bc6c-f337e8d8d61f",
   "metadata": {},
   "source": [
    "Esta acción es conocida como “Tagging” y es bastante importante a la hora de gestionar la vida de un proyecto.\n",
    "Crear un nuevo proyecto a partir de otro (Fork)."
   ]
  },
  {
   "cell_type": "markdown",
   "id": "0c31d211-386d-4c15-87a0-ad89471e0433",
   "metadata": {},
   "source": [
    "### Fork"
   ]
  },
  {
   "cell_type": "markdown",
   "id": "8cdda3a1-a1eb-4706-a51c-ca07d7a5168c",
   "metadata": {},
   "source": [
    "Una opción bastante usada en Github es la de **Fork.** Con esta opción podrás crear un nuevo proyecto en base a uno ya creado, permitiendo hacer modificaciones y guardándose en tu propio repositorio y no en el repositorio original."
   ]
  },
  {
   "cell_type": "markdown",
   "id": "d8ef82a2-1b8a-43a7-8e47-bb40cd950db4",
   "metadata": {},
   "source": [
    "Esta opción facilita el crecimiento de proyectos **permitiendo a los desarrolladores continuar mejorando un software por cuenta propia** y en el caso de realizarse una mejora en el repositorio principal **podrás también implementarla a tu proyecto clonado.**"
   ]
  },
  {
   "cell_type": "markdown",
   "id": "ecb9b178-5ff5-468a-a83b-f82e497ce061",
   "metadata": {},
   "source": [
    "Esta opción es conocida en Github como bifurcación."
   ]
  },
  {
   "cell_type": "markdown",
   "id": "bf630393-f730-4cea-a4a9-8dbaaf6dcf86",
   "metadata": {
    "jp-MarkdownHeadingCollapsed": true,
    "tags": []
   },
   "source": [
    "## 2.2 ¿Cuando usaar Github?"
   ]
  },
  {
   "cell_type": "markdown",
   "id": "234c855e-6cd8-4933-83d7-215a9293e375",
   "metadata": {},
   "source": [
    "**Github es perfecto para gestionar desarrollos, permitiendo compartir los proyectos*** a una gran comunidad de desarrolladores que estarán encantados de cooperar y **mejorar el software, aportando mejoras o comentarios** que añadirán valor al desarrollo final."
   ]
  },
  {
   "cell_type": "markdown",
   "id": "bae2f414-40e5-4624-a925-a0fc6508219c",
   "metadata": {},
   "source": [
    ">WebEmpresas indica que:\n",
    ">Contar con un gestor de versiones como Git permite >ver todos los cambios en la vida del proyecto desde >sus inicios.\n"
   ]
  },
  {
   "cell_type": "markdown",
   "id": "e4f61196-5004-451d-ac3a-6499d81ac31b",
   "metadata": {},
   "source": [
    "**Nota:** Ingeniero no logre insertar una imagen para esta investigación. podria por favor dar un ejemplo en clase para que entienda el proceso para realizar esa acción?"
   ]
  },
  {
   "cell_type": "markdown",
   "id": "932de452-6e8e-4c96-89e0-dccbeb1efc21",
   "metadata": {
    "tags": []
   },
   "source": [
    "## Magic Cells"
   ]
  },
  {
   "cell_type": "code",
   "execution_count": 8,
   "id": "64f7d9bc-47bc-4e1f-9f07-76d46c183db8",
   "metadata": {
    "tags": []
   },
   "outputs": [
    {
     "name": "stderr",
     "output_type": "stream",
     "text": [
      "\"ls\" no se reconoce como un comando interno o externo,\n",
      "programa o archivo por lotes ejecutable.\n"
     ]
    }
   ],
   "source": [
    "!ls"
   ]
  },
  {
   "cell_type": "code",
   "execution_count": 9,
   "id": "dbebaea8-dac9-4397-918d-951a8560d268",
   "metadata": {
    "tags": []
   },
   "outputs": [],
   "source": [
    "!mkdir Git y Github investigación"
   ]
  },
  {
   "cell_type": "code",
   "execution_count": 10,
   "id": "aa7ca4d0-2fd4-44d0-b44b-aa0ff79e6048",
   "metadata": {
    "tags": []
   },
   "outputs": [
    {
     "name": "stdout",
     "output_type": "stream",
     "text": [
      " El volumen de la unidad C es Windows\n",
      " El número de serie del volumen es: A4A4-E0B6\n",
      "\n",
      " Directorio de C:\\Users\\Lenovo\\Documents\\Ciencia_de_datos_python\\Investigación\\GIT GITHUB\n",
      "\n",
      "06/02/2024  19:44    <DIR>          .\n",
      "04/02/2024  19:03    <DIR>          ..\n",
      "04/02/2024  19:04    <DIR>          .ipynb_checkpoints\n",
      "06/02/2024  19:43    <DIR>          Git\n",
      "06/02/2024  19:44            13,372 GIT GITHUB.ipynb\n",
      "06/02/2024  19:43    <DIR>          Github\n",
      "06/02/2024  19:43    <DIR>          investigación\n",
      "04/02/2024  20:25             8,456 que-es-git-1-320.webp\n",
      "06/02/2024  19:43    <DIR>          y\n",
      "               2 archivos         21,828 bytes\n",
      "               7 dirs  161,973,817,344 bytes libres\n"
     ]
    }
   ],
   "source": [
    "%ls"
   ]
  },
  {
   "cell_type": "code",
   "execution_count": 11,
   "id": "43b2c189-6333-475a-80ea-f5cf29a9a5e6",
   "metadata": {
    "tags": []
   },
   "outputs": [
    {
     "data": {
      "text/plain": [
       "'C:\\\\Users\\\\Lenovo\\\\Documents\\\\Ciencia_de_datos_python\\\\Investigación\\\\GIT GITHUB'"
      ]
     },
     "execution_count": 11,
     "metadata": {},
     "output_type": "execute_result"
    }
   ],
   "source": [
    "%pwd"
   ]
  },
  {
   "cell_type": "code",
   "execution_count": 12,
   "id": "4ba17153-e3ed-49c7-8a51-2b5c1f168744",
   "metadata": {
    "tags": []
   },
   "outputs": [
    {
     "name": "stdout",
     "output_type": "stream",
     "text": [
      "C:\\Users\\Lenovo\n"
     ]
    }
   ],
   "source": [
    "%cd"
   ]
  },
  {
   "cell_type": "code",
   "execution_count": 14,
   "id": "58089c6f-a30b-4f26-9f40-58a0a1adf805",
   "metadata": {
    "tags": []
   },
   "outputs": [
    {
     "data": {
      "application/json": {
       "cell": {
        "!": "OSMagics",
        "HTML": "Other",
        "SVG": "Other",
        "bash": "Other",
        "capture": "ExecutionMagics",
        "cmd": "Other",
        "code_wrap": "ExecutionMagics",
        "debug": "ExecutionMagics",
        "file": "Other",
        "html": "DisplayMagics",
        "javascript": "DisplayMagics",
        "js": "DisplayMagics",
        "latex": "DisplayMagics",
        "markdown": "DisplayMagics",
        "perl": "Other",
        "prun": "ExecutionMagics",
        "pypy": "Other",
        "python": "Other",
        "python2": "Other",
        "python3": "Other",
        "ruby": "Other",
        "script": "ScriptMagics",
        "sh": "Other",
        "svg": "DisplayMagics",
        "sx": "OSMagics",
        "system": "OSMagics",
        "time": "ExecutionMagics",
        "timeit": "ExecutionMagics",
        "writefile": "OSMagics"
       },
       "line": {
        "alias": "OSMagics",
        "alias_magic": "BasicMagics",
        "autoawait": "AsyncMagics",
        "autocall": "AutoMagics",
        "automagic": "AutoMagics",
        "autosave": "KernelMagics",
        "bookmark": "OSMagics",
        "cd": "OSMagics",
        "clear": "KernelMagics",
        "cls": "KernelMagics",
        "code_wrap": "ExecutionMagics",
        "colors": "BasicMagics",
        "conda": "PackagingMagics",
        "config": "ConfigMagics",
        "connect_info": "KernelMagics",
        "copy": "Other",
        "ddir": "Other",
        "debug": "ExecutionMagics",
        "dhist": "OSMagics",
        "dirs": "OSMagics",
        "doctest_mode": "BasicMagics",
        "echo": "Other",
        "ed": "Other",
        "edit": "KernelMagics",
        "env": "OSMagics",
        "gui": "BasicMagics",
        "hist": "Other",
        "history": "HistoryMagics",
        "killbgscripts": "ScriptMagics",
        "ldir": "Other",
        "less": "KernelMagics",
        "load": "CodeMagics",
        "load_ext": "ExtensionMagics",
        "loadpy": "CodeMagics",
        "logoff": "LoggingMagics",
        "logon": "LoggingMagics",
        "logstart": "LoggingMagics",
        "logstate": "LoggingMagics",
        "logstop": "LoggingMagics",
        "ls": "Other",
        "lsmagic": "BasicMagics",
        "macro": "ExecutionMagics",
        "magic": "BasicMagics",
        "matplotlib": "PylabMagics",
        "mkdir": "Other",
        "more": "KernelMagics",
        "notebook": "BasicMagics",
        "page": "BasicMagics",
        "pastebin": "CodeMagics",
        "pdb": "ExecutionMagics",
        "pdef": "NamespaceMagics",
        "pdoc": "NamespaceMagics",
        "pfile": "NamespaceMagics",
        "pinfo": "NamespaceMagics",
        "pinfo2": "NamespaceMagics",
        "pip": "PackagingMagics",
        "popd": "OSMagics",
        "pprint": "BasicMagics",
        "precision": "BasicMagics",
        "prun": "ExecutionMagics",
        "psearch": "NamespaceMagics",
        "psource": "NamespaceMagics",
        "pushd": "OSMagics",
        "pwd": "OSMagics",
        "pycat": "OSMagics",
        "pylab": "PylabMagics",
        "qtconsole": "KernelMagics",
        "quickref": "BasicMagics",
        "recall": "HistoryMagics",
        "rehashx": "OSMagics",
        "reload_ext": "ExtensionMagics",
        "ren": "Other",
        "rep": "Other",
        "rerun": "HistoryMagics",
        "reset": "NamespaceMagics",
        "reset_selective": "NamespaceMagics",
        "rmdir": "Other",
        "run": "ExecutionMagics",
        "save": "CodeMagics",
        "sc": "OSMagics",
        "set_env": "OSMagics",
        "store": "StoreMagics",
        "sx": "OSMagics",
        "system": "OSMagics",
        "tb": "ExecutionMagics",
        "time": "ExecutionMagics",
        "timeit": "ExecutionMagics",
        "unalias": "OSMagics",
        "unload_ext": "ExtensionMagics",
        "who": "NamespaceMagics",
        "who_ls": "NamespaceMagics",
        "whos": "NamespaceMagics",
        "xdel": "NamespaceMagics",
        "xmode": "BasicMagics"
       }
      },
      "text/plain": [
       "Available line magics:\n",
       "%alias  %alias_magic  %autoawait  %autocall  %automagic  %autosave  %bookmark  %cd  %clear  %cls  %code_wrap  %colors  %conda  %config  %connect_info  %copy  %ddir  %debug  %dhist  %dirs  %doctest_mode  %echo  %ed  %edit  %env  %gui  %hist  %history  %killbgscripts  %ldir  %less  %load  %load_ext  %loadpy  %logoff  %logon  %logstart  %logstate  %logstop  %ls  %lsmagic  %macro  %magic  %matplotlib  %mkdir  %more  %notebook  %page  %pastebin  %pdb  %pdef  %pdoc  %pfile  %pinfo  %pinfo2  %pip  %popd  %pprint  %precision  %prun  %psearch  %psource  %pushd  %pwd  %pycat  %pylab  %qtconsole  %quickref  %recall  %rehashx  %reload_ext  %ren  %rep  %rerun  %reset  %reset_selective  %rmdir  %run  %save  %sc  %set_env  %store  %sx  %system  %tb  %time  %timeit  %unalias  %unload_ext  %who  %who_ls  %whos  %xdel  %xmode\n",
       "\n",
       "Available cell magics:\n",
       "%%!  %%HTML  %%SVG  %%bash  %%capture  %%cmd  %%code_wrap  %%debug  %%file  %%html  %%javascript  %%js  %%latex  %%markdown  %%perl  %%prun  %%pypy  %%python  %%python2  %%python3  %%ruby  %%script  %%sh  %%svg  %%sx  %%system  %%time  %%timeit  %%writefile\n",
       "\n",
       "Automagic is ON, % prefix IS NOT needed for line magics."
      ]
     },
     "execution_count": 14,
     "metadata": {},
     "output_type": "execute_result"
    }
   ],
   "source": [
    "%lsmagic"
   ]
  },
  {
   "cell_type": "code",
   "execution_count": null,
   "id": "6da21163-e965-44ca-bc15-cbb41b056751",
   "metadata": {},
   "outputs": [],
   "source": []
  }
 ],
 "metadata": {
  "kernelspec": {
   "display_name": "Python 3 (ipykernel)",
   "language": "python",
   "name": "python3"
  },
  "language_info": {
   "codemirror_mode": {
    "name": "ipython",
    "version": 3
   },
   "file_extension": ".py",
   "mimetype": "text/x-python",
   "name": "python",
   "nbconvert_exporter": "python",
   "pygments_lexer": "ipython3",
   "version": "3.11.5"
  }
 },
 "nbformat": 4,
 "nbformat_minor": 5
}
