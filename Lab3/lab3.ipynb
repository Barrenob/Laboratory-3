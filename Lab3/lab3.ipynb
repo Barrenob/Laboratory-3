{
 "cells": [
  {
   "cell_type": "markdown",
   "id": "b3d5a69b-59e9-4a29-bf94-189990553fbd",
   "metadata": {},
   "source": [
    "### 1) ¿Cuál es el tamaño en bytes de un array de 1000 elementos de tipo booleano?"
   ]
  },
  {
   "cell_type": "code",
   "execution_count": 315,
   "id": "bce18f33-9327-4e92-bcab-5e6692b19cf0",
   "metadata": {
    "tags": []
   },
   "outputs": [],
   "source": [
    "import sys\n",
    "import numpy as np\n",
    "import pandas as pd\n",
    "import matplotlib.pyplot as plt\n",
    "import seaborn as sns"
   ]
  },
  {
   "cell_type": "code",
   "execution_count": 156,
   "id": "e047d95e-d563-4980-8482-ea4d8ed6f1a1",
   "metadata": {
    "tags": []
   },
   "outputs": [],
   "source": [
    "array_booleano = [True] * 1000"
   ]
  },
  {
   "cell_type": "code",
   "execution_count": 157,
   "id": "445eb55f-2a47-4ba4-857e-d8ac532d529c",
   "metadata": {
    "tags": []
   },
   "outputs": [],
   "source": [
    "tamano_bytes = sys.getsizeof(array_booleano)"
   ]
  },
  {
   "cell_type": "code",
   "execution_count": 158,
   "id": "37cf5127-641a-438d-b47f-e88c8ace2d2c",
   "metadata": {
    "tags": []
   },
   "outputs": [
    {
     "name": "stdout",
     "output_type": "stream",
     "text": [
      "El tamaño en bytes del array de 1000 elementos booleanos la respuesta es: 8056\n"
     ]
    }
   ],
   "source": [
    "print(\"El tamaño en bytes del array de 1000 elementos booleanos la respuesta es:\", tamano_bytes)"
   ]
  },
  {
   "cell_type": "markdown",
   "id": "2904c6b9-51b9-4f91-a9e7-15e45f1bf30a",
   "metadata": {},
   "source": [
    "### 2) Cree un array cuyos elementos sean los enteros pares en [1,100] y en orden decreciente. Muestre los 10 últimos por pantalla."
   ]
  },
  {
   "cell_type": "code",
   "execution_count": 159,
   "id": "10e65754-a36a-49d4-a686-67874e3a8463",
   "metadata": {
    "tags": []
   },
   "outputs": [],
   "source": [
    "array_enteros_pares = [num for num in range(100, 0, -2) if num % 2 == 0]"
   ]
  },
  {
   "cell_type": "code",
   "execution_count": 160,
   "id": "b8f049b4-6666-4823-b0db-d85c4859c520",
   "metadata": {
    "tags": []
   },
   "outputs": [
    {
     "name": "stdout",
     "output_type": "stream",
     "text": [
      "Los últimos 100 elementos del array son: [100, 98, 96, 94, 92, 90, 88, 86, 84, 82, 80, 78, 76, 74, 72, 70, 68, 66, 64, 62, 60, 58, 56, 54, 52, 50, 48, 46, 44, 42, 40, 38, 36, 34, 32, 30, 28, 26, 24, 22, 20, 18, 16, 14, 12, 10, 8, 6, 4, 2]\n"
     ]
    }
   ],
   "source": [
    "ultimos_100_elementos = array_enteros_pares[-100:]\n",
    "print(\"Los últimos 100 elementos del array son:\", ultimos_100_elementos)"
   ]
  },
  {
   "cell_type": "markdown",
   "id": "a8872016-a78c-47d3-94f6-b7e33bc25ec5",
   "metadata": {},
   "source": [
    "### 3) Dado el array\n",
    "### 2 4 5 6\n",
    "### 0 3 7 4\n",
    "### 8 8 5 2\n",
    "### 1 5 6 1\n",
    "### Seleccione con una instrucción el subarray de elementos\n",
    "### 0 3 7 4\n",
    "### Después, seleccione el subarray de elementos\n",
    "### 2 5\n",
    "### 8 5"
   ]
  },
  {
   "cell_type": "code",
   "execution_count": 161,
   "id": "305029c3-b198-46b2-b6ac-43b38620ba3d",
   "metadata": {
    "tags": []
   },
   "outputs": [],
   "source": [
    "array = [\n",
    "    [2, 4, 5, 6],\n",
    "    [0, 3, 7, 4],\n",
    "    [8, 8, 5, 2],\n",
    "    [1, 5, 6, 1]]"
   ]
  },
  {
   "cell_type": "code",
   "execution_count": 162,
   "id": "c192a91d-3160-4b87-b12b-b0f5deb964fe",
   "metadata": {
    "tags": []
   },
   "outputs": [],
   "source": [
    "subarray1 = [fila[1:3] for fila in array[1:3]]"
   ]
  },
  {
   "cell_type": "code",
   "execution_count": 163,
   "id": "de5f67bb-616b-4f47-9c19-ccdf4ae088a1",
   "metadata": {
    "tags": []
   },
   "outputs": [],
   "source": [
    "subarray2 = [fila[0] for fila in array[::2]]"
   ]
  },
  {
   "cell_type": "code",
   "execution_count": 164,
   "id": "9965d9b1-e21b-4bed-8086-feab1413e9dc",
   "metadata": {
    "tags": []
   },
   "outputs": [
    {
     "name": "stdout",
     "output_type": "stream",
     "text": [
      "Subarray de elementos 0 3 7 4:\n",
      "[3, 7]\n",
      "[8, 5]\n"
     ]
    }
   ],
   "source": [
    "print(\"Subarray de elementos 0 3 7 4:\")\n",
    "for fila in subarray1:\n",
    "    print(fila)"
   ]
  },
  {
   "cell_type": "code",
   "execution_count": 165,
   "id": "df555184-0ae0-49e3-a563-95a932b95266",
   "metadata": {
    "tags": []
   },
   "outputs": [
    {
     "name": "stdout",
     "output_type": "stream",
     "text": [
      "\n",
      "Subarray de elementos 2 5:\n",
      "[2, 8]\n"
     ]
    }
   ],
   "source": [
    "print(\"\\nSubarray de elementos 2 5:\")\n",
    "print(subarray2)"
   ]
  },
  {
   "cell_type": "markdown",
   "id": "93d91155-f0f3-4d82-8cb2-4fb35d2d6cb6",
   "metadata": {},
   "source": [
    "### 4) Dados los arrays a = [1, 4, 2, 7] y b = [1, 3, 2, 9], obtenga la media aritmética de la diferencia (a-b)."
   ]
  },
  {
   "cell_type": "code",
   "execution_count": 166,
   "id": "4ec2ad2a-77c3-4a34-aec5-e9dc3455fbbc",
   "metadata": {
    "tags": []
   },
   "outputs": [],
   "source": [
    "a = [1, 4, 2, 7]\n",
    "b = [1, 3, 2, 9]"
   ]
  },
  {
   "cell_type": "code",
   "execution_count": 167,
   "id": "52ed8e51-208d-424f-9dc1-75394f322989",
   "metadata": {
    "tags": []
   },
   "outputs": [
    {
     "name": "stdout",
     "output_type": "stream",
     "text": [
      "La media aritmética de la diferencia (a - b) la respuesta es: -0.25\n"
     ]
    }
   ],
   "source": [
    "diferencias = [a[i] - b[i] for i in range(len(a))]\n",
    "media_diferencias = sum(diferencias) / len(diferencias)\n",
    "print(\"La media aritmética de la diferencia (a - b) la respuesta es:\", media_diferencias)"
   ]
  },
  {
   "cell_type": "markdown",
   "id": "3be9c4ad-b418-4a0c-9fba-768ae2713ed5",
   "metadata": {},
   "source": [
    "### 5) Tengo valores de cordenadas (x, y) en las columnas del array\n",
    "### 1.33 4.5\n",
    "### 30.0 10.7\n",
    "### 70.2 0.5\n",
    "### Agregue a este array las coordenadas (37.1, -3.6). \n",
    "### Muestre en pantalla las dimensiones del nuevo array."
   ]
  },
  {
   "cell_type": "code",
   "execution_count": 168,
   "id": "10b60d8d-fd46-4ca8-8205-403403e9589a",
   "metadata": {
    "tags": []
   },
   "outputs": [],
   "source": [
    "array_original = np.array([\n",
    "    [1.33, 4.5],\n",
    "    [30.0, 10.7],\n",
    "    [70.2, 0.5]\n",
    "])"
   ]
  },
  {
   "cell_type": "code",
   "execution_count": 169,
   "id": "5fefd2f3-d23b-4a87-b8c6-ea0ef175177c",
   "metadata": {
    "tags": []
   },
   "outputs": [
    {
     "name": "stdout",
     "output_type": "stream",
     "text": [
      "Las dimensiones del nuevo array son: (4, 2)\n"
     ]
    }
   ],
   "source": [
    "coordenadas_nuevas = np.array([[37.1, -3.6]])\n",
    "array_nuevo = np.vstack([array_original, coordenadas_nuevas])\n",
    "dimensiones = array_nuevo.shape\n",
    "print(\"Las dimensiones del nuevo array son:\", dimensiones)"
   ]
  },
  {
   "cell_type": "markdown",
   "id": "795bace1-32b7-4f21-94e1-8308549e7362",
   "metadata": {},
   "source": [
    "### 6) Copie el array del ejercicio anterior. Traspóngalo (. \n",
    "### Agregue ahora dos nuevos pares de coordenadas: (10.8, \n",
    "### 3.0) y (35.8, 12.0)."
   ]
  },
  {
   "cell_type": "code",
   "execution_count": 170,
   "id": "11cea230-2cc8-4ccf-b77b-a3e2ebc1c7d0",
   "metadata": {
    "tags": []
   },
   "outputs": [],
   "source": [
    "array_original = np.array([\n",
    "    [1.33, 4.5],\n",
    "    [30.0, 10.7],\n",
    "    [70.2, 0.5]\n",
    "])"
   ]
  },
  {
   "cell_type": "code",
   "execution_count": 171,
   "id": "d2de780f-f6ca-451c-8c62-c383b1cfd079",
   "metadata": {
    "tags": []
   },
   "outputs": [
    {
     "name": "stdout",
     "output_type": "stream",
     "text": [
      "[[ 1.33  4.5 ]\n",
      " [30.   10.7 ]\n",
      " [70.2   0.5 ]]\n"
     ]
    }
   ],
   "source": [
    "print(array_original)"
   ]
  },
  {
   "cell_type": "code",
   "execution_count": 172,
   "id": "ffa4690a-bf16-47e3-9c90-d554b43898e9",
   "metadata": {
    "tags": []
   },
   "outputs": [],
   "source": [
    "nuevos_valores = np.append(array_original, [[10.8, 3.0, 35.8, 12.0]])"
   ]
  },
  {
   "cell_type": "code",
   "execution_count": 173,
   "id": "b39440d0-bbe7-4a59-ab44-09b7e33504a3",
   "metadata": {
    "tags": []
   },
   "outputs": [
    {
     "name": "stdout",
     "output_type": "stream",
     "text": [
      "[ 1.33  4.5  30.   10.7  70.2   0.5  10.8   3.   35.8  12.  ]\n"
     ]
    }
   ],
   "source": [
    "print(nuevos_valores)"
   ]
  },
  {
   "cell_type": "markdown",
   "id": "6d1cc664-6387-4a35-99a6-008852fd5493",
   "metadata": {},
   "source": [
    "### parte 2"
   ]
  },
  {
   "cell_type": "code",
   "execution_count": 248,
   "id": "b533e941-036d-4487-9797-7e4aab08b969",
   "metadata": {
    "tags": []
   },
   "outputs": [
    {
     "data": {
      "text/html": [
       "<div>\n",
       "<style scoped>\n",
       "    .dataframe tbody tr th:only-of-type {\n",
       "        vertical-align: middle;\n",
       "    }\n",
       "\n",
       "    .dataframe tbody tr th {\n",
       "        vertical-align: top;\n",
       "    }\n",
       "\n",
       "    .dataframe thead th {\n",
       "        text-align: right;\n",
       "    }\n",
       "</style>\n",
       "<table border=\"1\" class=\"dataframe\">\n",
       "  <thead>\n",
       "    <tr style=\"text-align: right;\">\n",
       "      <th></th>\n",
       "      <th>FID</th>\n",
       "      <th>OBJECTID</th>\n",
       "      <th>...</th>\n",
       "      <th>X</th>\n",
       "      <th>Y</th>\n",
       "    </tr>\n",
       "  </thead>\n",
       "  <tbody>\n",
       "    <tr>\n",
       "      <th>0</th>\n",
       "      <td>0</td>\n",
       "      <td>1</td>\n",
       "      <td>...</td>\n",
       "      <td>-15.446012</td>\n",
       "      <td>27.900542</td>\n",
       "    </tr>\n",
       "    <tr>\n",
       "      <th>1</th>\n",
       "      <td>1</td>\n",
       "      <td>2</td>\n",
       "      <td>...</td>\n",
       "      <td>-14.013301</td>\n",
       "      <td>28.418966</td>\n",
       "    </tr>\n",
       "    <tr>\n",
       "      <th>2</th>\n",
       "      <td>2</td>\n",
       "      <td>3</td>\n",
       "      <td>...</td>\n",
       "      <td>-13.551451</td>\n",
       "      <td>28.960649</td>\n",
       "    </tr>\n",
       "    <tr>\n",
       "      <th>3</th>\n",
       "      <td>3</td>\n",
       "      <td>4</td>\n",
       "      <td>...</td>\n",
       "      <td>-15.521512</td>\n",
       "      <td>28.117496</td>\n",
       "    </tr>\n",
       "    <tr>\n",
       "      <th>4</th>\n",
       "      <td>4</td>\n",
       "      <td>5</td>\n",
       "      <td>...</td>\n",
       "      <td>-15.654111</td>\n",
       "      <td>28.143873</td>\n",
       "    </tr>\n",
       "  </tbody>\n",
       "</table>\n",
       "<p>5 rows × 10 columns</p>\n",
       "</div>"
      ],
      "text/plain": [
       "   FID  OBJECTID  ...          X          Y\n",
       "0    0         1  ... -15.446012  27.900542\n",
       "1    1         2  ... -14.013301  28.418966\n",
       "2    2         3  ... -13.551451  28.960649\n",
       "3    3         4  ... -15.521512  28.117496\n",
       "4    4         5  ... -15.654111  28.143873\n",
       "\n",
       "[5 rows x 10 columns]"
      ]
     },
     "execution_count": 248,
     "metadata": {},
     "output_type": "execute_result"
    }
   ],
   "source": [
    "dataset = pd.read_csv(\"NucleosPoblacion.csv\")\n",
    "dataset.head()"
   ]
  },
  {
   "cell_type": "code",
   "execution_count": 253,
   "id": "d7423cbe-e4c5-435d-97c5-dfb77d99d709",
   "metadata": {
    "tags": []
   },
   "outputs": [
    {
     "data": {
      "text/plain": [
       "Index(['FID', 'OBJECTID', 'Texto', 'Poblacion', 'CodMun', 'Municipio',\n",
       "       'CodProvin', 'Provincia', 'X', 'Y'],\n",
       "      dtype='object')"
      ]
     },
     "execution_count": 253,
     "metadata": {},
     "output_type": "execute_result"
    }
   ],
   "source": [
    "dataset.columns"
   ]
  },
  {
   "cell_type": "code",
   "execution_count": 257,
   "id": "d6a2ee57-26cf-41c1-ade6-42441c94995a",
   "metadata": {
    "tags": []
   },
   "outputs": [
    {
     "data": {
      "text/plain": [
       "array(['Las Palmas', 'Santa Cruz de Tenerife', 'Badajoz', 'Cáceres',\n",
       "       'Cádiz', 'A Coruña', 'Huelva', 'León', 'Lugo', 'Ourense',\n",
       "       'Asturias', 'Pontevedra', 'Salamanca', 'Sevilla', 'Albacete',\n",
       "       'Alacant/Alicante', 'Álava', 'Almería', 'Ávila', 'Burgos',\n",
       "       'Castelló/Castellón', 'Ciudad Real', 'Córdoba', 'Cuenca',\n",
       "       'Granada', 'Guadalajara', 'Guipúzcoa', 'Huesca', 'Jaén',\n",
       "       'La Rioja', 'Madrid', 'Málaga', 'Murcia', 'Navarra', 'Palencia',\n",
       "       'Cantabria', 'Segovia', 'Soria', 'Teruel', 'Toledo',\n",
       "       'València/Valencia', 'Valladolid', 'Vizcaya', 'Zamora', 'Zaragoza',\n",
       "       'Ceuta', 'Illes Balears', 'Barcelona', 'Girona', 'Lleida',\n",
       "       'Tarragona', 'Melilla'], dtype=object)"
      ]
     },
     "execution_count": 257,
     "metadata": {},
     "output_type": "execute_result"
    }
   ],
   "source": [
    "dataset[\"Provincia\"].unique()"
   ]
  },
  {
   "cell_type": "markdown",
   "id": "c4d60eeb-25a2-425e-9d44-055ebce37a8f",
   "metadata": {},
   "source": [
    "### 1) ¿Cuántos Municipios tienen más de 100000 habitantes?."
   ]
  },
  {
   "cell_type": "code",
   "execution_count": 246,
   "id": "0a0e715f-05d2-4309-9812-fb05127a295c",
   "metadata": {
    "tags": []
   },
   "outputs": [
    {
     "data": {
      "text/plain": [
       "array([False, False, False, False, False, False, False, False, False,\n",
       "        True, False, False, False, False, False, False,  True, False,\n",
       "       False, False, False, False, False, False, False, False, False,\n",
       "       False,  True, False, False, False, False, False, False, False,\n",
       "       False, False, False, False,  True, False,  True, False, False,\n",
       "       False, False, False, False, False, False,  True, False, False,\n",
       "       False,  True, False, False, False, False, False, False, False,\n",
       "       False, False, False, False,  True, False, False, False, False,\n",
       "       False, False, False, False, False, False, False, False, False,\n",
       "       False, False, False, False, False, False, False, False,  True,\n",
       "       False, False, False, False, False, False, False, False, False,\n",
       "       False, False, False, False, False, False, False, False, False,\n",
       "        True, False, False, False, False, False, False, False, False,\n",
       "       False, False, False, False, False, False, False, False, False,\n",
       "       False, False, False, False, False, False, False, False, False,\n",
       "        True, False, False, False, False, False, False, False, False,\n",
       "       False, False, False, False, False, False, False, False, False,\n",
       "       False, False, False, False, False, False, False,  True, False,\n",
       "       False, False, False, False, False, False, False, False,  True,\n",
       "        True, False, False, False, False, False,  True, False, False,\n",
       "       False, False, False, False, False, False, False, False, False,\n",
       "       False, False, False, False, False,  True, False, False, False,\n",
       "       False,  True, False, False, False, False, False, False, False,\n",
       "       False, False, False, False, False, False,  True, False, False,\n",
       "       False,  True, False, False, False, False, False, False, False,\n",
       "       False, False, False, False, False, False, False,  True, False,\n",
       "       False, False, False, False, False, False, False, False, False,\n",
       "       False, False, False, False, False, False, False, False, False,\n",
       "       False, False,  True, False, False, False, False, False, False,\n",
       "       False, False, False, False, False, False, False, False, False,\n",
       "       False, False,  True, False, False, False, False, False, False,\n",
       "       False, False, False, False, False, False, False, False, False,\n",
       "       False, False, False, False, False, False, False, False, False,\n",
       "       False, False, False, False, False, False,  True, False, False,\n",
       "       False, False, False, False, False, False, False, False, False,\n",
       "       False, False, False,  True, False, False, False, False, False,\n",
       "       False, False, False, False,  True, False, False, False, False,\n",
       "       False,  True,  True,  True,  True, False, False, False, False,\n",
       "       False, False, False, False, False, False, False,  True, False,\n",
       "        True, False, False,  True,  True, False, False, False, False,\n",
       "        True, False, False,  True, False, False, False, False, False,\n",
       "       False, False, False, False,  True, False, False, False, False,\n",
       "       False, False, False, False, False, False, False, False, False,\n",
       "       False, False, False, False,  True, False,  True, False, False,\n",
       "       False, False, False, False, False, False, False, False, False,\n",
       "       False, False, False, False, False,  True, False, False, False,\n",
       "       False, False, False, False, False,  True, False, False, False,\n",
       "       False, False, False, False, False, False, False, False, False,\n",
       "       False, False,  True, False, False, False, False, False, False,\n",
       "       False, False, False,  True, False, False, False, False, False,\n",
       "       False, False,  True, False, False, False, False, False,  True,\n",
       "       False, False, False, False, False, False, False, False, False,\n",
       "        True, False, False, False, False, False, False, False, False,\n",
       "       False,  True, False, False, False, False, False, False, False,\n",
       "       False, False, False,  True, False, False, False, False, False,\n",
       "       False, False, False, False, False, False, False, False, False,\n",
       "       False, False, False, False, False, False, False, False, False,\n",
       "       False, False, False, False, False, False, False, False, False,\n",
       "       False, False, False, False, False, False, False, False, False,\n",
       "       False, False, False, False, False, False, False, False, False,\n",
       "       False, False, False, False, False, False, False, False, False,\n",
       "       False, False, False, False, False, False, False,  True, False,\n",
       "       False, False,  True, False, False, False, False, False,  True,\n",
       "       False, False, False, False, False, False, False, False, False,\n",
       "       False, False, False, False, False, False, False, False, False,\n",
       "       False,  True, False, False, False, False, False, False, False,\n",
       "       False, False, False, False, False, False, False, False, False,\n",
       "       False,  True, False, False, False, False, False, False, False,\n",
       "       False, False, False, False,  True,  True, False, False, False,\n",
       "       False, False, False, False, False, False, False, False, False,\n",
       "       False, False, False, False, False, False,  True, False, False,\n",
       "       False, False, False, False, False, False,  True, False, False,\n",
       "       False, False, False, False, False, False, False, False, False,\n",
       "       False, False, False, False, False,  True, False, False, False,\n",
       "       False, False, False, False, False, False, False, False, False,\n",
       "       False, False,  True, False, False, False, False, False,  True,\n",
       "       False, False, False, False, False, False, False, False, False,\n",
       "       False, False, False, False, False, False, False, False, False,\n",
       "       False, False, False, False, False, False, False, False, False,\n",
       "       False, False, False, False, False, False,  True, False, False,\n",
       "       False, False, False, False, False, False, False,  True, False,\n",
       "        True, False, False, False, False, False, False, False, False,\n",
       "       False, False, False, False, False, False, False, False, False,\n",
       "       False, False, False, False, False, False, False, False, False,\n",
       "       False, False, False, False, False, False, False, False, False,\n",
       "       False, False, False, False, False, False, False, False, False,\n",
       "       False, False, False, False, False, False, False, False, False,\n",
       "       False, False, False, False, False, False, False, False, False,\n",
       "       False, False, False, False, False, False, False, False, False,\n",
       "       False, False, False, False, False, False, False, False, False,\n",
       "       False, False, False, False, False, False, False, False, False,\n",
       "       False, False, False, False, False, False, False, False, False,\n",
       "       False, False, False, False, False, False, False, False, False])"
      ]
     },
     "execution_count": 246,
     "metadata": {},
     "output_type": "execute_result"
    }
   ],
   "source": [
    "dataset[\"Poblacion\"].unique()> 100000"
   ]
  },
  {
   "cell_type": "code",
   "execution_count": 240,
   "id": "c5d681b0-48d9-4812-b0e8-69dc9238fa56",
   "metadata": {
    "tags": []
   },
   "outputs": [],
   "source": [
    "array = ([False, False, False, False, False, False, False, False, False,\n",
    "        True, False, False, False, False, False, False,  True, False,\n",
    "       False, False, False, False, False, False, False, False, False,\n",
    "       False,  True, False, False, False, False, False, False, False,\n",
    "       False, False, False, False,  True, False,  True, False, False,\n",
    "       False, False, False, False, False, False,  True, False, False,\n",
    "       False,  True, False, False, False, False, False, False, False,\n",
    "       False, False, False, False,  True, False, False, False, False,\n",
    "       False, False, False, False, False, False, False, False, False,\n",
    "       False, False, False, False, False, False, False, False,  True,\n",
    "       False, False, False, False, False, False, False, False, False,\n",
    "       False, False, False, False, False, False, False, False, False,\n",
    "        True, False, False, False, False, False, False, False, False,\n",
    "       False, False, False, False, False, False, False, False, False,\n",
    "       False, False, False, False, False, False, False, False, False,\n",
    "        True, False, False, False, False, False, False, False, False,\n",
    "       False, False, False, False, False, False, False, False, False,\n",
    "       False, False, False, False, False, False, False,  True, False,\n",
    "       False, False, False, False, False, False, False, False,  True,\n",
    "        True, False, False, False, False, False,  True, False, False,\n",
    "       False, False, False, False, False, False, False, False, False,\n",
    "       False, False, False, False, False,  True, False, False, False,\n",
    "       False,  True, False, False, False, False, False, False, False,\n",
    "       False, False, False, False, False, False,  True, False, False,\n",
    "       False,  True, False, False, False, False, False, False, False,\n",
    "       False, False, False, False, False, False, False,  True, False,\n",
    "       False, False, False, False, False, False, False, False, False,\n",
    "       False, False, False, False, False, False, False, False, False,\n",
    "       False, False,  True, False, False, False, False, False, False,\n",
    "       False, False, False, False, False, False, False, False, False,\n",
    "       False, False,  True, False, False, False, False, False, False,\n",
    "       False, False, False, False, False, False, False, False, False,\n",
    "       False, False, False, False, False, False, False, False, False,\n",
    "       False, False, False, False, False, False,  True, False, False,\n",
    "       False, False, False, False, False, False, False, False, False,\n",
    "       False, False, False,  True, False, False, False, False, False,\n",
    "       False, False, False, False,  True, False, False, False, False,\n",
    "       False,  True,  True,  True,  True, False, False, False, False,\n",
    "       False, False, False, False, False, False, False,  True, False,\n",
    "        True, False, False,  True,  True, False, False, False, False,\n",
    "        True, False, False,  True, False, False, False, False, False,\n",
    "       False, False, False, False,  True, False, False, False, False,\n",
    "       False, False, False, False, False, False, False, False, False,\n",
    "       False, False, False, False,  True, False,  True, False, False,\n",
    "       False, False, False, False, False, False, False, False, False,\n",
    "       False, False, False, False, False,  True, False, False, False,\n",
    "       False, False, False, False, False,  True, False, False, False,\n",
    "       False, False, False, False, False, False, False, False, False,\n",
    "       False, False,  True, False, False, False, False, False, False,\n",
    "       False, False, False,  True, False, False, False, False, False,\n",
    "       False, False,  True, False, False, False, False, False,  True,\n",
    "       False, False, False, False, False, False, False, False, False,\n",
    "        True, False, False, False, False, False, False, False, False,\n",
    "       False,  True, False, False, False, False, False, False, False,\n",
    "       False, False, False,  True, False, False, False, False, False,\n",
    "       False, False, False, False, False, False, False, False, False,\n",
    "       False, False, False, False, False, False, False, False, False,\n",
    "       False, False, False, False, False, False, False, False, False,\n",
    "       False, False, False, False, False, False, False, False, False,\n",
    "       False, False, False, False, False, False, False, False, False,\n",
    "       False, False, False, False, False, False, False, False, False,\n",
    "       False, False, False, False, False, False, False,  True, False,\n",
    "       False, False,  True, False, False, False, False, False,  True,\n",
    "       False, False, False, False, False, False, False, False, False,\n",
    "       False, False, False, False, False, False, False, False, False,\n",
    "       False,  True, False, False, False, False, False, False, False,\n",
    "       False, False, False, False, False, False, False, False, False,\n",
    "       False,  True, False, False, False, False, False, False, False,\n",
    "       False, False, False, False,  True,  True, False, False, False,\n",
    "       False, False, False, False, False, False, False, False, False,\n",
    "       False, False, False, False, False, False,  True, False, False,\n",
    "       False, False, False, False, False, False,  True, False, False,\n",
    "       False, False, False, False, False, False, False, False, False,\n",
    "       False, False, False, False, False,  True, False, False, False,\n",
    "       False, False, False, False, False, False, False, False, False,\n",
    "       False, False,  True, False, False, False, False, False,  True,\n",
    "       False, False, False, False, False, False, False, False, False,\n",
    "       False, False, False, False, False, False, False, False, False,\n",
    "       False, False, False, False, False, False, False, False, False,\n",
    "       False, False, False, False, False, False,  True, False, False,\n",
    "       False, False, False, False, False, False, False,  True, False,\n",
    "        True, False, False, False, False, False, False, False, False,\n",
    "       False, False, False, False, False, False, False, False, False,\n",
    "       False, False, False, False, False, False, False, False, False,\n",
    "       False, False, False, False, False, False, False, False, False,\n",
    "       False, False, False, False, False, False, False, False, False,\n",
    "       False, False, False, False, False, False, False, False, False,\n",
    "       False, False, False, False, False, False, False, False, False,\n",
    "       False, False, False, False, False, False, False, False, False,\n",
    "       False, False, False, False, False, False, False, False, False,\n",
    "       False, False, False, False, False, False, False, False, False,\n",
    "       False, False, False, False, False, False, False, False, False,\n",
    "       False, False, False, False, False, False, False, False, False])"
   ]
  },
  {
   "cell_type": "code",
   "execution_count": 244,
   "id": "1884a253-4c1f-4750-9048-2a8baaa320ca",
   "metadata": {
    "tags": []
   },
   "outputs": [
    {
     "name": "stdout",
     "output_type": "stream",
     "text": [
      "La suma de los municipios con una poblacion mayor a 100,000 son: 62\n"
     ]
    }
   ],
   "source": [
    "suma = sum(1 for valor in array if valor)\n",
    "\n",
    "print(\"La suma de los municipios con una poblacion mayor a 100,000 son:\", suma)"
   ]
  },
  {
   "cell_type": "markdown",
   "id": "a56c6fd0-e33b-460d-9d9c-8f34e3533fcd",
   "metadata": {},
   "source": [
    "### 2) Realice una gráfica de barras sobre la polbación de cada ciudad, ordenela de menor a mayo y responda:\n",
    "### a. ¿Cuál es la segunda ciudad más poblada?\n",
    "### b. ¿Qué posición ocupa Granada en el ranking de las ciudades más pobladas?"
   ]
  },
  {
   "cell_type": "code",
   "execution_count": 268,
   "id": "b2c66e2f-29a0-470f-b850-d173ff5d9874",
   "metadata": {
    "tags": []
   },
   "outputs": [
    {
     "data": {
      "text/plain": [
       "0              Las Palmas\n",
       "1              Las Palmas\n",
       "2              Las Palmas\n",
       "3              Las Palmas\n",
       "4              Las Palmas\n",
       "              ...        \n",
       "847                Murcia\n",
       "848                Murcia\n",
       "849                Murcia\n",
       "850                Toledo\n",
       "851    Castelló/Castellón\n",
       "Name: Provincia, Length: 852, dtype: object"
      ]
     },
     "execution_count": 268,
     "metadata": {},
     "output_type": "execute_result"
    }
   ],
   "source": [
    "dataset[\"Provincia\"]"
   ]
  },
  {
   "cell_type": "code",
   "execution_count": 296,
   "id": "3aac4e5d-da9c-4280-abc5-fa0db3081f24",
   "metadata": {
    "tags": []
   },
   "outputs": [],
   "source": [
    "poblacion_ciudades = (dataset[\"Provincia\"] ,dataset[\"Provincia\"])\n"
   ]
  },
  {
   "cell_type": "code",
   "execution_count": 297,
   "id": "291faa7a-19d7-499b-a984-95a4146c7d6c",
   "metadata": {
    "tags": []
   },
   "outputs": [
    {
     "ename": "AttributeError",
     "evalue": "'tuple' object has no attribute 'items'",
     "output_type": "error",
     "traceback": [
      "\u001b[1;31m---------------------------------------------------------------------------\u001b[0m",
      "\u001b[1;31mAttributeError\u001b[0m                            Traceback (most recent call last)",
      "Cell \u001b[1;32mIn[297], line 1\u001b[0m\n\u001b[1;32m----> 1\u001b[0m ciudades_ordenadas \u001b[38;5;241m=\u001b[39m \u001b[38;5;28msorted\u001b[39m(poblacion_ciudades\u001b[38;5;241m.\u001b[39mitems(), key\u001b[38;5;241m=\u001b[39m\u001b[38;5;28;01mlambda\u001b[39;00m x: x[\u001b[38;5;241m1\u001b[39m])\n",
      "\u001b[1;31mAttributeError\u001b[0m: 'tuple' object has no attribute 'items'"
     ]
    }
   ],
   "source": [
    "ciudades_ordenadas = sorted(poblacion_ciudades.items(), key=lambda x: x[1])"
   ]
  },
  {
   "cell_type": "code",
   "execution_count": 269,
   "id": "eb46d776-7871-4fb9-8ad8-33783ad22885",
   "metadata": {
    "tags": []
   },
   "outputs": [],
   "source": [
    "nombres_ciudades = [ciudad[0] for ciudad in ciudades_ordenadas]\n",
    "poblaciones = [ciudad[1] for ciudad in ciudades_ordenadas]"
   ]
  },
  {
   "cell_type": "code",
   "execution_count": 270,
   "id": "06059cf6-aabc-4087-9a09-a4ac3d93f15d",
   "metadata": {
    "tags": []
   },
   "outputs": [
    {
     "data": {
      "image/png": "[encoded data removed]",
      "text/plain": [
       "<Figure size 1000x600 with 1 Axes>"
      ]
     },
     "metadata": {},
     "output_type": "display_data"
    }
   ],
   "source": [
    "plt.figure(figsize=(10, 6))\n",
    "plt.barh(nombres_ciudades, poblaciones, color='skyblue')\n",
    "plt.xlabel('Población')\n",
    "plt.ylabel('Ciudades')\n",
    "plt.title('Población de las Ciudades')\n",
    "plt.grid(True)\n",
    "plt.show()"
   ]
  },
  {
   "cell_type": "code",
   "execution_count": 271,
   "id": "f645d1a0-22d1-42b6-8cbd-0b0c53154279",
   "metadata": {
    "tags": []
   },
   "outputs": [],
   "source": [
    "segunda_ciudad_mas_poblada = ciudades_ordenadas[-2][0]\n",
    "posicion_granada = nombres_ciudades.index(\"Granada\") + 1"
   ]
  },
  {
   "cell_type": "code",
   "execution_count": 272,
   "id": "efaeb382-5445-493d-bf66-3b4a065b7b4a",
   "metadata": {
    "tags": []
   },
   "outputs": [
    {
     "name": "stdout",
     "output_type": "stream",
     "text": [
      "a. La segunda ciudad más poblada es: Barcelona\n",
      "b. Granada ocupa la posición 1 en el ranking de las ciudades más pobladas.\n"
     ]
    }
   ],
   "source": [
    "print(\"a. La segunda ciudad más poblada es:\", segunda_ciudad_mas_poblada)\n",
    "print(\"b. Granada ocupa la posición\", posicion_granada, \"en el ranking de las ciudades más pobladas.\")"
   ]
  },
  {
   "cell_type": "markdown",
   "id": "fa2e98a7-9940-441f-9421-1be39eeadaf3",
   "metadata": {},
   "source": [
    "### 3) ¿Cuántos municipios de Extremadura tienen más de 5000 habitantes?."
   ]
  },
  {
   "cell_type": "code",
   "execution_count": null,
   "id": "fe787807-0579-4521-9717-f13a954c6297",
   "metadata": {},
   "outputs": [],
   "source": []
  },
  {
   "cell_type": "markdown",
   "id": "6c557784-5b93-47e7-b3d3-64d791fece9d",
   "metadata": {},
   "source": [
    "### 4) ¿Cuál es el municipio situado más al Norte? (Usar el valor de la coordenada \"Y\" que representa la latitud en grados). Proporcione también la provincia a la quepertenece y su población."
   ]
  },
  {
   "cell_type": "code",
   "execution_count": null,
   "id": "6c4eaa3e-f834-4e5a-b996-6858a51ef8b5",
   "metadata": {},
   "outputs": [],
   "source": []
  },
  {
   "cell_type": "markdown",
   "id": "6837e596-9e74-4156-be45-fe7f1f2b6c84",
   "metadata": {},
   "source": [
    "### 5) Obtenga la media, mediana, desviación estándar, valor máximo y valor mínimo de la población de los municipios de la provincia de Granada."
   ]
  },
  {
   "cell_type": "code",
   "execution_count": 324,
   "id": "270fbfe5-2e8f-42d8-9fc2-9e88d325ea62",
   "metadata": {
    "tags": []
   },
   "outputs": [],
   "source": [
    "granada_df = dataset[dataset['Municipio'] == 'Granada']"
   ]
  },
  {
   "cell_type": "code",
   "execution_count": 325,
   "id": "d68ddacc-a14d-48a6-810f-706fa21e7041",
   "metadata": {
    "tags": []
   },
   "outputs": [],
   "source": [
    "media = granada_df['Poblacion'].mean()\n",
    "mediana = granada_df['Poblacion'].median()\n",
    "desviacion_estandar = granada_df['Poblacion'].std()\n",
    "valor_maximo = granada_df['Poblacion'].max()\n",
    "valor_minimo = granada_df['Poblacion'].min()"
   ]
  },
  {
   "cell_type": "code",
   "execution_count": 326,
   "id": "8a841531-31c3-4c24-9d7a-25344dbbc07d",
   "metadata": {
    "tags": []
   },
   "outputs": [
    {
     "name": "stdout",
     "output_type": "stream",
     "text": [
      "Estadísticas de la población de los municipios de la provincia de Granada:\n",
      "Media: 239154.0\n",
      "Mediana: 239154.0\n",
      "Desviación estándar: nan\n",
      "Valor máximo: 239154.0\n",
      "Valor mínimo: 239154.0\n"
     ]
    }
   ],
   "source": [
    "print(\"Estadísticas de la población de los municipios de la provincia de Granada:\")\n",
    "print(\"Media:\", media)\n",
    "print(\"Mediana:\", mediana)\n",
    "print(\"Desviación estándar:\", desviacion_estandar)\n",
    "print(\"Valor máximo:\", valor_maximo)\n",
    "print(\"Valor mínimo:\", valor_minimo)"
   ]
  },
  {
   "cell_type": "markdown",
   "id": "a08604d6-aaa4-4fbb-84d9-4829577fb068",
   "metadata": {},
   "source": [
    "### 6) Realice un histograma con la población de los Municipios para cada una de las provincias"
   ]
  },
  {
   "cell_type": "code",
   "execution_count": 308,
   "id": "ef4cc606-135c-4dcd-8453-25a28cbf26de",
   "metadata": {
    "tags": []
   },
   "outputs": [
    {
     "data": {
      "text/html": [
       "<div>\n",
       "<style scoped>\n",
       "    .dataframe tbody tr th:only-of-type {\n",
       "        vertical-align: middle;\n",
       "    }\n",
       "\n",
       "    .dataframe tbody tr th {\n",
       "        vertical-align: top;\n",
       "    }\n",
       "\n",
       "    .dataframe thead th {\n",
       "        text-align: right;\n",
       "    }\n",
       "</style>\n",
       "<table border=\"1\" class=\"dataframe\">\n",
       "  <thead>\n",
       "    <tr style=\"text-align: right;\">\n",
       "      <th></th>\n",
       "      <th>Municipio</th>\n",
       "      <th>Poblacion</th>\n",
       "    </tr>\n",
       "  </thead>\n",
       "  <tbody>\n",
       "    <tr>\n",
       "      <th>0</th>\n",
       "      <td>Agüimes</td>\n",
       "      <td>29431.0</td>\n",
       "    </tr>\n",
       "    <tr>\n",
       "      <th>1</th>\n",
       "      <td>Antigua</td>\n",
       "      <td>10458.0</td>\n",
       "    </tr>\n",
       "    <tr>\n",
       "      <th>2</th>\n",
       "      <td>Arrecife</td>\n",
       "      <td>58156.0</td>\n",
       "    </tr>\n",
       "    <tr>\n",
       "      <th>3</th>\n",
       "      <td>Arucas</td>\n",
       "      <td>36745.0</td>\n",
       "    </tr>\n",
       "    <tr>\n",
       "      <th>4</th>\n",
       "      <td>Gáldar</td>\n",
       "      <td>24473.0</td>\n",
       "    </tr>\n",
       "    <tr>\n",
       "      <th>...</th>\n",
       "      <td>...</td>\n",
       "      <td>...</td>\n",
       "    </tr>\n",
       "    <tr>\n",
       "      <th>847</th>\n",
       "      <td>Murcia</td>\n",
       "      <td>14192.0</td>\n",
       "    </tr>\n",
       "    <tr>\n",
       "      <th>848</th>\n",
       "      <td>Murcia</td>\n",
       "      <td>13349.0</td>\n",
       "    </tr>\n",
       "    <tr>\n",
       "      <th>849</th>\n",
       "      <td>Murcia</td>\n",
       "      <td>15208.0</td>\n",
       "    </tr>\n",
       "    <tr>\n",
       "      <th>850</th>\n",
       "      <td>Toledo</td>\n",
       "      <td>19177.0</td>\n",
       "    </tr>\n",
       "    <tr>\n",
       "      <th>851</th>\n",
       "      <td>Castellón de la Plana/Castelló de la Plana</td>\n",
       "      <td>16367.0</td>\n",
       "    </tr>\n",
       "  </tbody>\n",
       "</table>\n",
       "<p>852 rows × 2 columns</p>\n",
       "</div>"
      ],
      "text/plain": [
       "                                      Municipio  Poblacion\n",
       "0                                       Agüimes    29431.0\n",
       "1                                       Antigua    10458.0\n",
       "2                                      Arrecife    58156.0\n",
       "3                                        Arucas    36745.0\n",
       "4                                        Gáldar    24473.0\n",
       "..                                          ...        ...\n",
       "847                                      Murcia    14192.0\n",
       "848                                      Murcia    13349.0\n",
       "849                                      Murcia    15208.0\n",
       "850                                      Toledo    19177.0\n",
       "851  Castellón de la Plana/Castelló de la Plana    16367.0\n",
       "\n",
       "[852 rows x 2 columns]"
      ]
     },
     "execution_count": 308,
     "metadata": {},
     "output_type": "execute_result"
    }
   ],
   "source": [
    "dataset[[\"Municipio\", \"Poblacion\"]]\n"
   ]
  },
  {
   "cell_type": "code",
   "execution_count": 321,
   "id": "815666fd-eae3-4fd4-94f3-d97eced8a263",
   "metadata": {
    "tags": []
   },
   "outputs": [
    {
     "data": {
      "image/png": "[encoded data removed]",
      "text/plain": [
       "<Figure size 640x480 with 1 Axes>"
      ]
     },
     "metadata": {},
     "output_type": "display_data"
    },
    {
     "data": {
      "image/png": "[encoded data removed]",
      "text/plain": [
       "<Figure size 640x480 with 1 Axes>"
      ]
     },
     "metadata": {},
     "output_type": "display_data"
    },
    {
     "data": {
      "image/png": "[encoded data removed]",
      "text/plain": [
       "<Figure size 640x480 with 1 Axes>"
      ]
     },
     "metadata": {},
     "output_type": "display_data"
    },
    {
     "data": {
      "image/png": "[encoded data removed]",
      "text/plain": [
       "<Figure size 640x480 with 1 Axes>"
      ]
     },
     "metadata": {},
     "output_type": "display_data"
    },
    {
     "data": {
      "image/png": "[encoded data removed]",
      "text/plain": [
       "<Figure size 640x480 with 1 Axes>"
      ]
     },
     "metadata": {},
     "output_type": "display_data"
    },
    {
     "data": {
      "image/png": "[encoded data removed]",
      "text/plain": [
       "<Figure size 640x480 with 1 Axes>"
      ]
     },
     "metadata": {},
     "output_type": "display_data"
    },
    {
     "data": {
      "image/png": "[encoded data removed]",
      "text/plain": [
       "<Figure size 640x480 with 1 Axes>"
      ]
     },
     "metadata": {},
     "output_type": "display_data"
    },
    {
     "data": {
      "image/png": "[encoded data removed]",
      "text/plain": [
       "<Figure size 640x480 with 1 Axes>"
      ]
     },
     "metadata": {},
     "output_type": "display_data"
    },
    {
     "data": {
      "image/png": "[encoded data removed]",
      "text/plain": [
       "<Figure size 640x480 with 1 Axes>"
      ]
     },
     "metadata": {},
     "output_type": "display_data"
    },
    {
     "data": {
      "image/png": "[encoded data removed]",
      "text/plain": [
       "<Figure size 640x480 with 1 Axes>"
      ]
     },
     "metadata": {},
     "output_type": "display_data"
    }
   ],
   "source": [
    "for Poblacion in dataset.columns:\n",
    "    sns.histplot(dataset[Poblacion], kde=False, bins=100) \n",
    "    plt.title(f'Histograma de {Poblacion}')\n",
    "    plt.xlabel(Poblacion)\n",
    "    plt.ylabel('Frecuencia')\n",
    "    plt.show()"
   ]
  },
  {
   "cell_type": "markdown",
   "id": "514dc7da-a483-4a27-80a0-b14fc3214c6a",
   "metadata": {},
   "source": [
    "### 7) Seleccione al azar cincuenta municipios diferentes de entre los diponibles en el archivo. Asegúrese de que no se repitan. ¿Luego calcule el promedio de la población y la desviación estándar de esto 50 municipios?"
   ]
  },
  {
   "cell_type": "code",
   "execution_count": 277,
   "id": "b0e53e5d-da73-4017-8953-fc69219ff079",
   "metadata": {
    "tags": []
   },
   "outputs": [
    {
     "data": {
      "text/html": [
       "<div>\n",
       "<style scoped>\n",
       "    .dataframe tbody tr th:only-of-type {\n",
       "        vertical-align: middle;\n",
       "    }\n",
       "\n",
       "    .dataframe tbody tr th {\n",
       "        vertical-align: top;\n",
       "    }\n",
       "\n",
       "    .dataframe thead th {\n",
       "        text-align: right;\n",
       "    }\n",
       "</style>\n",
       "<table border=\"1\" class=\"dataframe\">\n",
       "  <thead>\n",
       "    <tr style=\"text-align: right;\">\n",
       "      <th></th>\n",
       "      <th>FID</th>\n",
       "      <th>OBJECTID</th>\n",
       "      <th>...</th>\n",
       "      <th>X</th>\n",
       "      <th>Y</th>\n",
       "    </tr>\n",
       "  </thead>\n",
       "  <tbody>\n",
       "    <tr>\n",
       "      <th>0</th>\n",
       "      <td>0</td>\n",
       "      <td>1</td>\n",
       "      <td>...</td>\n",
       "      <td>-15.446012</td>\n",
       "      <td>27.900542</td>\n",
       "    </tr>\n",
       "    <tr>\n",
       "      <th>1</th>\n",
       "      <td>1</td>\n",
       "      <td>2</td>\n",
       "      <td>...</td>\n",
       "      <td>-14.013301</td>\n",
       "      <td>28.418966</td>\n",
       "    </tr>\n",
       "    <tr>\n",
       "      <th>2</th>\n",
       "      <td>2</td>\n",
       "      <td>3</td>\n",
       "      <td>...</td>\n",
       "      <td>-13.551451</td>\n",
       "      <td>28.960649</td>\n",
       "    </tr>\n",
       "    <tr>\n",
       "      <th>3</th>\n",
       "      <td>3</td>\n",
       "      <td>4</td>\n",
       "      <td>...</td>\n",
       "      <td>-15.521512</td>\n",
       "      <td>28.117496</td>\n",
       "    </tr>\n",
       "    <tr>\n",
       "      <th>4</th>\n",
       "      <td>4</td>\n",
       "      <td>5</td>\n",
       "      <td>...</td>\n",
       "      <td>-15.654111</td>\n",
       "      <td>28.143873</td>\n",
       "    </tr>\n",
       "  </tbody>\n",
       "</table>\n",
       "<p>5 rows × 10 columns</p>\n",
       "</div>"
      ],
      "text/plain": [
       "   FID  OBJECTID  ...          X          Y\n",
       "0    0         1  ... -15.446012  27.900542\n",
       "1    1         2  ... -14.013301  28.418966\n",
       "2    2         3  ... -13.551451  28.960649\n",
       "3    3         4  ... -15.521512  28.117496\n",
       "4    4         5  ... -15.654111  28.143873\n",
       "\n",
       "[5 rows x 10 columns]"
      ]
     },
     "execution_count": 277,
     "metadata": {},
     "output_type": "execute_result"
    }
   ],
   "source": [
    "df= pd.read_csv(\"NucleosPoblacion.csv\")\n",
    "dataset.head()"
   ]
  },
  {
   "cell_type": "code",
   "execution_count": 284,
   "id": "993e458c-fb36-41fe-8e1b-62d339d1feac",
   "metadata": {
    "tags": []
   },
   "outputs": [
    {
     "data": {
      "text/html": [
       "<div>\n",
       "<style scoped>\n",
       "    .dataframe tbody tr th:only-of-type {\n",
       "        vertical-align: middle;\n",
       "    }\n",
       "\n",
       "    .dataframe tbody tr th {\n",
       "        vertical-align: top;\n",
       "    }\n",
       "\n",
       "    .dataframe thead th {\n",
       "        text-align: right;\n",
       "    }\n",
       "</style>\n",
       "<table border=\"1\" class=\"dataframe\">\n",
       "  <thead>\n",
       "    <tr style=\"text-align: right;\">\n",
       "      <th></th>\n",
       "      <th>FID</th>\n",
       "      <th>OBJECTID</th>\n",
       "      <th>...</th>\n",
       "      <th>X</th>\n",
       "      <th>Y</th>\n",
       "    </tr>\n",
       "  </thead>\n",
       "  <tbody>\n",
       "    <tr>\n",
       "      <th>619</th>\n",
       "      <td>619</td>\n",
       "      <td>620</td>\n",
       "      <td>...</td>\n",
       "      <td>3.360063</td>\n",
       "      <td>39.620439</td>\n",
       "    </tr>\n",
       "    <tr>\n",
       "      <th>669</th>\n",
       "      <td>669</td>\n",
       "      <td>670</td>\n",
       "      <td>...</td>\n",
       "      <td>2.214476</td>\n",
       "      <td>41.434028</td>\n",
       "    </tr>\n",
       "    <tr>\n",
       "      <th>810</th>\n",
       "      <td>810</td>\n",
       "      <td>811</td>\n",
       "      <td>...</td>\n",
       "      <td>-3.863961</td>\n",
       "      <td>43.448140</td>\n",
       "    </tr>\n",
       "    <tr>\n",
       "      <th>744</th>\n",
       "      <td>744</td>\n",
       "      <td>745</td>\n",
       "      <td>...</td>\n",
       "      <td>1.131980</td>\n",
       "      <td>41.076851</td>\n",
       "    </tr>\n",
       "    <tr>\n",
       "      <th>620</th>\n",
       "      <td>620</td>\n",
       "      <td>621</td>\n",
       "      <td>...</td>\n",
       "      <td>2.549539</td>\n",
       "      <td>41.580557</td>\n",
       "    </tr>\n",
       "    <tr>\n",
       "      <th>440</th>\n",
       "      <td>440</td>\n",
       "      <td>441</td>\n",
       "      <td>...</td>\n",
       "      <td>-1.695028</td>\n",
       "      <td>42.793430</td>\n",
       "    </tr>\n",
       "    <tr>\n",
       "      <th>747</th>\n",
       "      <td>747</td>\n",
       "      <td>748</td>\n",
       "      <td>...</td>\n",
       "      <td>1.931076</td>\n",
       "      <td>41.385429</td>\n",
       "    </tr>\n",
       "    <tr>\n",
       "      <th>396</th>\n",
       "      <td>396</td>\n",
       "      <td>397</td>\n",
       "      <td>...</td>\n",
       "      <td>-4.277649</td>\n",
       "      <td>36.717150</td>\n",
       "    </tr>\n",
       "    <tr>\n",
       "      <th>743</th>\n",
       "      <td>743</td>\n",
       "      <td>744</td>\n",
       "      <td>...</td>\n",
       "      <td>0.738444</td>\n",
       "      <td>40.717303</td>\n",
       "    </tr>\n",
       "    <tr>\n",
       "      <th>803</th>\n",
       "      <td>803</td>\n",
       "      <td>804</td>\n",
       "      <td>...</td>\n",
       "      <td>-1.071994</td>\n",
       "      <td>37.974979</td>\n",
       "    </tr>\n",
       "    <tr>\n",
       "      <th>826</th>\n",
       "      <td>826</td>\n",
       "      <td>827</td>\n",
       "      <td>...</td>\n",
       "      <td>2.753480</td>\n",
       "      <td>39.502268</td>\n",
       "    </tr>\n",
       "    <tr>\n",
       "      <th>326</th>\n",
       "      <td>326</td>\n",
       "      <td>327</td>\n",
       "      <td>...</td>\n",
       "      <td>-3.086239</td>\n",
       "      <td>38.108935</td>\n",
       "    </tr>\n",
       "    <tr>\n",
       "      <th>153</th>\n",
       "      <td>153</td>\n",
       "      <td>154</td>\n",
       "      <td>...</td>\n",
       "      <td>-6.046978</td>\n",
       "      <td>37.375030</td>\n",
       "    </tr>\n",
       "    <tr>\n",
       "      <th>681</th>\n",
       "      <td>681</td>\n",
       "      <td>682</td>\n",
       "      <td>...</td>\n",
       "      <td>2.080982</td>\n",
       "      <td>41.533291</td>\n",
       "    </tr>\n",
       "    <tr>\n",
       "      <th>215</th>\n",
       "      <td>215</td>\n",
       "      <td>216</td>\n",
       "      <td>...</td>\n",
       "      <td>-5.908295</td>\n",
       "      <td>39.152673</td>\n",
       "    </tr>\n",
       "    <tr>\n",
       "      <th>459</th>\n",
       "      <td>459</td>\n",
       "      <td>460</td>\n",
       "      <td>...</td>\n",
       "      <td>-5.767484</td>\n",
       "      <td>40.387034</td>\n",
       "    </tr>\n",
       "    <tr>\n",
       "      <th>634</th>\n",
       "      <td>634</td>\n",
       "      <td>635</td>\n",
       "      <td>...</td>\n",
       "      <td>2.070132</td>\n",
       "      <td>41.355469</td>\n",
       "    </tr>\n",
       "    <tr>\n",
       "      <th>128</th>\n",
       "      <td>128</td>\n",
       "      <td>129</td>\n",
       "      <td>...</td>\n",
       "      <td>-8.617632</td>\n",
       "      <td>42.162711</td>\n",
       "    </tr>\n",
       "    <tr>\n",
       "      <th>379</th>\n",
       "      <td>379</td>\n",
       "      <td>380</td>\n",
       "      <td>...</td>\n",
       "      <td>-3.963181</td>\n",
       "      <td>40.491248</td>\n",
       "    </tr>\n",
       "    <tr>\n",
       "      <th>58</th>\n",
       "      <td>58</td>\n",
       "      <td>59</td>\n",
       "      <td>...</td>\n",
       "      <td>-6.363159</td>\n",
       "      <td>36.620111</td>\n",
       "    </tr>\n",
       "    <tr>\n",
       "      <th>202</th>\n",
       "      <td>202</td>\n",
       "      <td>203</td>\n",
       "      <td>...</td>\n",
       "      <td>-2.435997</td>\n",
       "      <td>36.884064</td>\n",
       "    </tr>\n",
       "    <tr>\n",
       "      <th>812</th>\n",
       "      <td>812</td>\n",
       "      <td>813</td>\n",
       "      <td>...</td>\n",
       "      <td>-4.051823</td>\n",
       "      <td>43.341213</td>\n",
       "    </tr>\n",
       "    <tr>\n",
       "      <th>539</th>\n",
       "      <td>539</td>\n",
       "      <td>540</td>\n",
       "      <td>...</td>\n",
       "      <td>-0.594428</td>\n",
       "      <td>39.625864</td>\n",
       "    </tr>\n",
       "    <tr>\n",
       "      <th>404</th>\n",
       "      <td>404</td>\n",
       "      <td>405</td>\n",
       "      <td>...</td>\n",
       "      <td>-1.424623</td>\n",
       "      <td>37.852376</td>\n",
       "    </tr>\n",
       "    <tr>\n",
       "      <th>513</th>\n",
       "      <td>513</td>\n",
       "      <td>514</td>\n",
       "      <td>...</td>\n",
       "      <td>-0.517440</td>\n",
       "      <td>39.116852</td>\n",
       "    </tr>\n",
       "    <tr>\n",
       "      <th>540</th>\n",
       "      <td>540</td>\n",
       "      <td>541</td>\n",
       "      <td>...</td>\n",
       "      <td>-0.457003</td>\n",
       "      <td>39.491639</td>\n",
       "    </tr>\n",
       "    <tr>\n",
       "      <th>811</th>\n",
       "      <td>811</td>\n",
       "      <td>812</td>\n",
       "      <td>...</td>\n",
       "      <td>-3.858462</td>\n",
       "      <td>43.470062</td>\n",
       "    </tr>\n",
       "    <tr>\n",
       "      <th>531</th>\n",
       "      <td>531</td>\n",
       "      <td>532</td>\n",
       "      <td>...</td>\n",
       "      <td>-0.441897</td>\n",
       "      <td>39.483785</td>\n",
       "    </tr>\n",
       "    <tr>\n",
       "      <th>771</th>\n",
       "      <td>771</td>\n",
       "      <td>772</td>\n",
       "      <td>...</td>\n",
       "      <td>-6.334164</td>\n",
       "      <td>36.801421</td>\n",
       "    </tr>\n",
       "    <tr>\n",
       "      <th>22</th>\n",
       "      <td>22</td>\n",
       "      <td>23</td>\n",
       "      <td>...</td>\n",
       "      <td>-16.679684</td>\n",
       "      <td>28.099518</td>\n",
       "    </tr>\n",
       "    <tr>\n",
       "      <th>552</th>\n",
       "      <td>552</td>\n",
       "      <td>553</td>\n",
       "      <td>...</td>\n",
       "      <td>-0.303179</td>\n",
       "      <td>39.616319</td>\n",
       "    </tr>\n",
       "    <tr>\n",
       "      <th>596</th>\n",
       "      <td>596</td>\n",
       "      <td>597</td>\n",
       "      <td>...</td>\n",
       "      <td>0.138375</td>\n",
       "      <td>38.755629</td>\n",
       "    </tr>\n",
       "    <tr>\n",
       "      <th>64</th>\n",
       "      <td>64</td>\n",
       "      <td>65</td>\n",
       "      <td>...</td>\n",
       "      <td>-8.886748</td>\n",
       "      <td>42.646838</td>\n",
       "    </tr>\n",
       "    <tr>\n",
       "      <th>268</th>\n",
       "      <td>268</td>\n",
       "      <td>269</td>\n",
       "      <td>...</td>\n",
       "      <td>-3.626903</td>\n",
       "      <td>37.140314</td>\n",
       "    </tr>\n",
       "    <tr>\n",
       "      <th>497</th>\n",
       "      <td>497</td>\n",
       "      <td>498</td>\n",
       "      <td>...</td>\n",
       "      <td>-1.109272</td>\n",
       "      <td>40.344130</td>\n",
       "    </tr>\n",
       "    <tr>\n",
       "      <th>181</th>\n",
       "      <td>181</td>\n",
       "      <td>182</td>\n",
       "      <td>...</td>\n",
       "      <td>-0.837805</td>\n",
       "      <td>38.437216</td>\n",
       "    </tr>\n",
       "    <tr>\n",
       "      <th>256</th>\n",
       "      <td>256</td>\n",
       "      <td>257</td>\n",
       "      <td>...</td>\n",
       "      <td>-4.484525</td>\n",
       "      <td>37.409014</td>\n",
       "    </tr>\n",
       "    <tr>\n",
       "      <th>25</th>\n",
       "      <td>25</td>\n",
       "      <td>26</td>\n",
       "      <td>...</td>\n",
       "      <td>-16.782611</td>\n",
       "      <td>28.210439</td>\n",
       "    </tr>\n",
       "    <tr>\n",
       "      <th>506</th>\n",
       "      <td>506</td>\n",
       "      <td>507</td>\n",
       "      <td>...</td>\n",
       "      <td>-3.974255</td>\n",
       "      <td>39.676411</td>\n",
       "    </tr>\n",
       "    <tr>\n",
       "      <th>318</th>\n",
       "      <td>318</td>\n",
       "      <td>319</td>\n",
       "      <td>...</td>\n",
       "      <td>-3.790359</td>\n",
       "      <td>37.765191</td>\n",
       "    </tr>\n",
       "    <tr>\n",
       "      <th>390</th>\n",
       "      <td>390</td>\n",
       "      <td>391</td>\n",
       "      <td>...</td>\n",
       "      <td>-4.623783</td>\n",
       "      <td>36.539028</td>\n",
       "    </tr>\n",
       "    <tr>\n",
       "      <th>37</th>\n",
       "      <td>37</td>\n",
       "      <td>38</td>\n",
       "      <td>...</td>\n",
       "      <td>-16.816575</td>\n",
       "      <td>28.294316</td>\n",
       "    </tr>\n",
       "    <tr>\n",
       "      <th>628</th>\n",
       "      <td>628</td>\n",
       "      <td>629</td>\n",
       "      <td>...</td>\n",
       "      <td>2.282880</td>\n",
       "      <td>41.617395</td>\n",
       "    </tr>\n",
       "    <tr>\n",
       "      <th>541</th>\n",
       "      <td>541</td>\n",
       "      <td>542</td>\n",
       "      <td>...</td>\n",
       "      <td>-0.330560</td>\n",
       "      <td>39.570251</td>\n",
       "    </tr>\n",
       "    <tr>\n",
       "      <th>159</th>\n",
       "      <td>159</td>\n",
       "      <td>160</td>\n",
       "      <td>...</td>\n",
       "      <td>-0.102600</td>\n",
       "      <td>38.580095</td>\n",
       "    </tr>\n",
       "    <tr>\n",
       "      <th>126</th>\n",
       "      <td>126</td>\n",
       "      <td>127</td>\n",
       "      <td>...</td>\n",
       "      <td>-8.807389</td>\n",
       "      <td>42.145056</td>\n",
       "    </tr>\n",
       "    <tr>\n",
       "      <th>408</th>\n",
       "      <td>408</td>\n",
       "      <td>409</td>\n",
       "      <td>...</td>\n",
       "      <td>-1.693913</td>\n",
       "      <td>38.231150</td>\n",
       "    </tr>\n",
       "    <tr>\n",
       "      <th>197</th>\n",
       "      <td>197</td>\n",
       "      <td>198</td>\n",
       "      <td>...</td>\n",
       "      <td>-3.023303</td>\n",
       "      <td>36.748683</td>\n",
       "    </tr>\n",
       "    <tr>\n",
       "      <th>387</th>\n",
       "      <td>387</td>\n",
       "      <td>388</td>\n",
       "      <td>...</td>\n",
       "      <td>-4.631717</td>\n",
       "      <td>36.710058</td>\n",
       "    </tr>\n",
       "    <tr>\n",
       "      <th>588</th>\n",
       "      <td>588</td>\n",
       "      <td>589</td>\n",
       "      <td>...</td>\n",
       "      <td>-1.137781</td>\n",
       "      <td>42.129056</td>\n",
       "    </tr>\n",
       "  </tbody>\n",
       "</table>\n",
       "<p>50 rows × 10 columns</p>\n",
       "</div>"
      ],
      "text/plain": [
       "     FID  OBJECTID  ...          X          Y\n",
       "619  619       620  ...   3.360063  39.620439\n",
       "669  669       670  ...   2.214476  41.434028\n",
       "810  810       811  ...  -3.863961  43.448140\n",
       "744  744       745  ...   1.131980  41.076851\n",
       "620  620       621  ...   2.549539  41.580557\n",
       "440  440       441  ...  -1.695028  42.793430\n",
       "747  747       748  ...   1.931076  41.385429\n",
       "396  396       397  ...  -4.277649  36.717150\n",
       "743  743       744  ...   0.738444  40.717303\n",
       "803  803       804  ...  -1.071994  37.974979\n",
       "826  826       827  ...   2.753480  39.502268\n",
       "326  326       327  ...  -3.086239  38.108935\n",
       "153  153       154  ...  -6.046978  37.375030\n",
       "681  681       682  ...   2.080982  41.533291\n",
       "215  215       216  ...  -5.908295  39.152673\n",
       "459  459       460  ...  -5.767484  40.387034\n",
       "634  634       635  ...   2.070132  41.355469\n",
       "128  128       129  ...  -8.617632  42.162711\n",
       "379  379       380  ...  -3.963181  40.491248\n",
       "58    58        59  ...  -6.363159  36.620111\n",
       "202  202       203  ...  -2.435997  36.884064\n",
       "812  812       813  ...  -4.051823  43.341213\n",
       "539  539       540  ...  -0.594428  39.625864\n",
       "404  404       405  ...  -1.424623  37.852376\n",
       "513  513       514  ...  -0.517440  39.116852\n",
       "540  540       541  ...  -0.457003  39.491639\n",
       "811  811       812  ...  -3.858462  43.470062\n",
       "531  531       532  ...  -0.441897  39.483785\n",
       "771  771       772  ...  -6.334164  36.801421\n",
       "22    22        23  ... -16.679684  28.099518\n",
       "552  552       553  ...  -0.303179  39.616319\n",
       "596  596       597  ...   0.138375  38.755629\n",
       "64    64        65  ...  -8.886748  42.646838\n",
       "268  268       269  ...  -3.626903  37.140314\n",
       "497  497       498  ...  -1.109272  40.344130\n",
       "181  181       182  ...  -0.837805  38.437216\n",
       "256  256       257  ...  -4.484525  37.409014\n",
       "25    25        26  ... -16.782611  28.210439\n",
       "506  506       507  ...  -3.974255  39.676411\n",
       "318  318       319  ...  -3.790359  37.765191\n",
       "390  390       391  ...  -4.623783  36.539028\n",
       "37    37        38  ... -16.816575  28.294316\n",
       "628  628       629  ...   2.282880  41.617395\n",
       "541  541       542  ...  -0.330560  39.570251\n",
       "159  159       160  ...  -0.102600  38.580095\n",
       "126  126       127  ...  -8.807389  42.145056\n",
       "408  408       409  ...  -1.693913  38.231150\n",
       "197  197       198  ...  -3.023303  36.748683\n",
       "387  387       388  ...  -4.631717  36.710058\n",
       "588  588       589  ...  -1.137781  42.129056\n",
       "\n",
       "[50 rows x 10 columns]"
      ]
     },
     "execution_count": 284,
     "metadata": {},
     "output_type": "execute_result"
    }
   ],
   "source": [
    "df.sample(50)"
   ]
  },
  {
   "cell_type": "code",
   "execution_count": 292,
   "id": "92d8bb38-4560-4a74-a384-33b0732c0dff",
   "metadata": {
    "tags": []
   },
   "outputs": [
    {
     "data": {
      "text/plain": [
       "count        50.000000\n",
       "mean      53860.080000\n",
       "std      111202.426769\n",
       "min       10303.000000\n",
       "25%       15611.500000\n",
       "50%       24949.500000\n",
       "75%       40749.750000\n",
       "max      704198.000000\n",
       "Name: Poblacion, dtype: float64"
      ]
     },
     "execution_count": 292,
     "metadata": {},
     "output_type": "execute_result"
    }
   ],
   "source": [
    "df.sample(50)[\"Poblacion\"].describe()\n"
   ]
  },
  {
   "cell_type": "code",
   "execution_count": 293,
   "id": "dccb5be8-4f3a-43ec-93f5-3adc2390319b",
   "metadata": {
    "tags": []
   },
   "outputs": [
    {
     "name": "stdout",
     "output_type": "stream",
     "text": [
      "Media: 33475.36\n",
      "Desviacion: 38292.88476603049\n"
     ]
    }
   ],
   "source": [
    "estadisticos = df.sample(50)[\"Poblacion\"].describe()\n",
    "print (\"Media:\", estadisticos [\"mean\"])\n",
    "print (\"Desviacion:\", estadisticos [\"std\"])"
   ]
  },
  {
   "cell_type": "markdown",
   "id": "c0d7644b-514e-4fa4-b2ad-f94c9fa4c62c",
   "metadata": {},
   "source": [
    "### 8) Determine los nombres de los Municipios más cercano y más lejano a Madrid. Para ello debe calcular la distancia en todos ellos y Madrid. No considere a Madrid en el análisis ya que la distancia sería cero."
   ]
  },
  {
   "cell_type": "code",
   "execution_count": null,
   "id": "6a14ce1f-042a-4001-956a-dcc51125772c",
   "metadata": {},
   "outputs": [],
   "source": []
  },
  {
   "cell_type": "code",
   "execution_count": null,
   "id": "5c8812b1-48b5-49fc-a320-1b3b4a6069d2",
   "metadata": {},
   "outputs": [],
   "source": []
  }
 ],
 "metadata": {
  "kernelspec": {
   "display_name": "Python 3 (ipykernel)",
   "language": "python",
   "name": "python3"
  },
  "language_info": {
   "codemirror_mode": {
    "name": "ipython",
    "version": 3
   },
   "file_extension": ".py",
   "mimetype": "text/x-python",
   "name": "python",
   "nbconvert_exporter": "python",
   "pygments_lexer": "ipython3",
   "version": "3.11.5"
  }
 },
 "nbformat": 4,
 "nbformat_minor": 5
}
