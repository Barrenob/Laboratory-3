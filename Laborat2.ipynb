{
 "cells": [
  {
   "cell_type": "markdown",
   "id": "b7ea02a4-0c78-48b0-81e5-af6e32bf8df3",
   "metadata": {},
   "source": [
    "### 1Haga un programa en Python que reciba de par´ametro un nu´mero de segundos y que desplie\u0002gue en pantalla, las horas, minutos y segundos que representan. Por ejemplo:Si el nu´mero de segundos recibidos fuera: 2743 entonces su programa deber´ıa desplegar:Horas: 0, Minutos: 45 , Segundos: 43Si el nu´mero de segundos recibidos fuera 5871: Horas: 1, Minutos: 37 , Segundos: 5 1Recuerde manejar excepciones y errores que considere necesarios."
   ]
  },
  {
   "cell_type": "code",
   "execution_count": 2,
   "id": "1e7a5807-2276-42c9-9cbf-d1cd29d70917",
   "metadata": {
    "tags": []
   },
   "outputs": [
    {
     "name": "stdin",
     "output_type": "stream",
     "text": [
      "Ingrese el número de segundos:  5871\n"
     ]
    },
    {
     "name": "stdout",
     "output_type": "stream",
     "text": [
      "Horas: 1, Minutos: 37, Segundos: 51\n"
     ]
    }
   ],
   "source": [
    "def segundos_a_tiempo(segundos):\n",
    "    try:\n",
    "        horas = segundos // 3600\n",
    "        minutos = (segundos % 3600) // 60\n",
    "        segundos_restantes = segundos % 60\n",
    "        return horas, minutos, segundos_restantes\n",
    "    except Exception as e:\n",
    "        print(\"Error:\", e)\n",
    "        return None, None, None\n",
    "\n",
    "def main():\n",
    "    try:\n",
    "        segundos = int(input(\"Ingrese el número de segundos: \"))\n",
    "        if segundos < 0:\n",
    "            raise ValueError(\"El número de segundos debe ser un valor positivo.\")\n",
    "        \n",
    "        horas, minutos, segundos_restantes = segundos_a_tiempo(segundos)\n",
    "        if horas is not None and minutos is not None and segundos_restantes is not None:\n",
    "            print(f\"Horas: {horas}, Minutos: {minutos}, Segundos: {segundos_restantes}\")\n",
    "    except ValueError as ve:\n",
    "        print(\"Error:\", ve)\n",
    "\n",
    "if __name__ == \"__main__\":\n",
    "    main()\n"
   ]
  },
  {
   "cell_type": "markdown",
   "id": "51fdbac1-b962-46f1-b6a2-e9e1500ffeb4",
   "metadata": {},
   "source": [
    "### 2. Haga una funci´on en Python que dado un nu´mero entre 1 y 20. Y un car´acter cualquieradespliegue cuatro patrones triangulares.Por ejemplo si el usuario ingresara el nu´mero 4 y el s´ımbolo * el programa deber´a desplegarlo siguiente: \n"
   ]
  },
  {
   "cell_type": "code",
   "execution_count": 3,
   "id": "90417ecf-3e1b-4ae6-9259-475683562b47",
   "metadata": {
    "tags": []
   },
   "outputs": [
    {
     "name": "stdin",
     "output_type": "stream",
     "text": [
      "Ingrese un número entre 1 y 20:  4\n",
      "Ingrese un carácter:  *\n"
     ]
    },
    {
     "name": "stdout",
     "output_type": "stream",
     "text": [
      "Patrón 1:\n",
      "*\n",
      "**\n",
      "***\n",
      "****\n",
      "\n",
      "Patrón 2:\n",
      "   *\n",
      "  **\n",
      " ***\n",
      "****\n",
      "\n",
      "Patrón 3:\n",
      "****\n",
      "***\n",
      "**\n",
      "*\n",
      "\n",
      "Patrón 4:\n",
      "****\n",
      " ***\n",
      "  **\n",
      "   *\n"
     ]
    }
   ],
   "source": [
    "def patrones_triangulares(numero, caracter):\n",
    "    if numero < 1 or numero > 20:\n",
    "        print(\"El número debe estar entre 1 y 20.\")\n",
    "        return\n",
    "       \n",
    "    print(\"Patrón 1:\")\n",
    "    for i in range(1, numero + 1):\n",
    "        print(caracter * i)\n",
    "    \n",
    "    \n",
    "    print(\"\\nPatrón 2:\")\n",
    "    for i in range(1, numero + 1):\n",
    "        print(\" \" * (numero - i) + caracter * i)\n",
    "    \n",
    "    \n",
    "    print(\"\\nPatrón 3:\")\n",
    "    for i in range(numero, 0, -1):\n",
    "        print(caracter * i)\n",
    "    \n",
    "    \n",
    "    print(\"\\nPatrón 4:\")\n",
    "    for i in range(numero, 0, -1):\n",
    "        print(\" \" * (numero - i) + caracter * i)\n",
    "\n",
    "\n",
    "numero = int(input(\"Ingrese un número entre 1 y 20: \"))\n",
    "caracter = input(\"Ingrese un carácter: \")\n",
    "patrones_triangulares(numero, caracter)\n"
   ]
  },
  {
   "cell_type": "markdown",
   "id": "567a9898-2297-42be-a390-e7a2261fef17",
   "metadata": {},
   "source": [
    "### 3. Haga un programa en Python que la fecha de nacimiento de una persona (puede ingresar porseparado cada valor, es decir pedir primero d´ıa, luego mes y luego an˜o), despliegue la edad de la persona en an˜os, meses y d´ıas. Su resultado puede ser aproximado"
   ]
  },
  {
   "cell_type": "code",
   "execution_count": 34,
   "id": "0cccb29d-7495-48b4-8c1e-d793c57b0e2a",
   "metadata": {
    "tags": []
   },
   "outputs": [
    {
     "name": "stdin",
     "output_type": "stream",
     "text": [
      "Ingrese el día de nacimiento:  18\n",
      "Ingrese el mes de nacimiento:  1\n",
      "Ingrese el año de nacimiento:  2018\n"
     ]
    },
    {
     "name": "stdout",
     "output_type": "stream",
     "text": [
      "Edad: 6 años, 1 meses y 24 días.\n"
     ]
    }
   ],
   "source": [
    "from datetime import datetime\n",
    "\n",
    "def calcular_edad(fecha_nacimiento):\n",
    "    fecha_actual = datetime.now()\n",
    "    edad = fecha_actual - fecha_nacimiento\n",
    "\n",
    "    años = edad.days // 365\n",
    "    meses = (edad.days % 365) // 30\n",
    "    dias = (edad.days % 365) % 30\n",
    "\n",
    "    return años, meses, dias\n",
    "\n",
    "def main():\n",
    "    try:\n",
    "        \n",
    "        dia_nacimiento = int(input(\"Ingrese el día de nacimiento: \"))\n",
    "        mes_nacimiento = int(input(\"Ingrese el mes de nacimiento: \"))        \n",
    "        año_nacimiento = int(input(\"Ingrese el año de nacimiento: \"))\n",
    "\n",
    "        \n",
    "        fecha_nacimiento = datetime(año_nacimiento, mes_nacimiento, dia_nacimiento)\n",
    "\n",
    "        \n",
    "        años, meses, dias = calcular_edad(fecha_nacimiento)\n",
    "\n",
    "        \n",
    "        print(f\"Edad: {años} años, {meses} meses y {dias} días.\")\n",
    "\n",
    "    except ValueError:\n",
    "        print(\"Error: Ingrese valores numéricos válidos para el día, mes y año.\")\n",
    "\n",
    "if __name__ == \"__main__\":\n",
    "    main()\n"
   ]
  },
  {
   "cell_type": "markdown",
   "id": "89371ccc-8d1a-4e6a-be44-d51c7f3ade4f",
   "metadata": {},
   "source": [
    "### 4. Escriba una funci´on en Python que dada una tupla de elementos (nu´meros o letras) esta se convierta a un string. Tomar nota del siguiente ejemplo: Si la entrada fuera: (10, 20, 40, 5, 70) La salida deber´ıa ser: 102040570"
   ]
  },
  {
   "cell_type": "code",
   "execution_count": 16,
   "id": "ad657606-3b3e-4512-adc2-cb59bfc1ac91",
   "metadata": {
    "tags": []
   },
   "outputs": [],
   "source": [
    "tupla = (10, 20, 40, 5, 70)"
   ]
  },
  {
   "cell_type": "code",
   "execution_count": 17,
   "id": "511d37a4-cf8a-494d-82ab-5f92a1754e56",
   "metadata": {
    "tags": []
   },
   "outputs": [
    {
     "name": "stdout",
     "output_type": "stream",
     "text": [
      "La salida es: 102040570\n"
     ]
    }
   ],
   "source": [
    "def tupla_a_string(tupla):    \n",
    "    resultado = ''.join(map(str, tupla))\n",
    "    return resultado\n",
    "entrada = tupla\n",
    "salida = tupla_a_string(entrada)\n",
    "print(\"La salida es:\", salida)\n"
   ]
  },
  {
   "cell_type": "markdown",
   "id": "1ed823b2-a637-4476-b849-23c66662bbe7",
   "metadata": {},
   "source": [
    "### 5. Cree un programa en Python que dada una lista de tuplas, elimine las tuplas que est´an vac´ıas. Tomar nota del siguiente ejemplo: Si la lista fuera: [(), (), (’X’,), (’a’, ’b’), (’a’, ’b’, ’c’), (’d’)] El resultado deber´ıa ser: [(’X’), (’a’, ’b’), (’a’, ’b’, ’c’), ’d’]"
   ]
  },
  {
   "cell_type": "code",
   "execution_count": 19,
   "id": "cbe88529-01c5-43eb-b3c6-408f841f6794",
   "metadata": {
    "tags": []
   },
   "outputs": [],
   "source": [
    "Lista_original=lista_tuplas = [(), (), ('X',), ('a', 'b'), ('a', 'b', 'c'), ('d')]\n"
   ]
  },
  {
   "cell_type": "code",
   "execution_count": 20,
   "id": "17149d06-9617-44bb-9cf9-f6122892d609",
   "metadata": {
    "tags": []
   },
   "outputs": [
    {
     "name": "stdout",
     "output_type": "stream",
     "text": [
      "El resultado es: [('X',), ('a', 'b'), ('a', 'b', 'c'), 'd']\n"
     ]
    }
   ],
   "source": [
    "def eliminar_tuplas_vacias(lista_tuplas):    \n",
    "    lista_filtrada = [tupla for tupla in lista_tuplas if tupla]\n",
    "    return lista_filtrada\n",
    "\n",
    "lista_original = lista_tuplas\n",
    "lista_resultante = eliminar_tuplas_vacias(lista_original)\n",
    "print(\"El resultado es:\", lista_resultante)\n"
   ]
  },
  {
   "cell_type": "markdown",
   "id": "007f4016-af9e-42f2-83f5-8dbf0bdcd961",
   "metadata": {},
   "source": [
    "### 6. Cree una funci´on en Python que dada una tupla de tuplas con nu´meros, produzca una tupla con el promedio de cada tupla individual, debe usar comprehensions para desarrollar este ejercicio. Tomar nota del siguiente ejemplo: Si la tupla de entrada fuera: ((10, 10, 10, 12), (30, 45, 56, 45), (81, 80, 39, 32)) El resultado deber´ıa ser: (10.5, 44, 58)"
   ]
  },
  {
   "cell_type": "code",
   "execution_count": 32,
   "id": "b32bd904-054e-4449-bc5c-c4bb7e386a1e",
   "metadata": {
    "tags": []
   },
   "outputs": [],
   "source": [
    "tupla_de_tuplas = ((10, 10, 10, 12), \n",
    "                   (30, 45, 56, 45), \n",
    "                   (81, 80, 39, 32))"
   ]
  },
  {
   "cell_type": "code",
   "execution_count": 33,
   "id": "43adb0db-fe20-49d3-a97e-beaca27dc37a",
   "metadata": {
    "tags": []
   },
   "outputs": [
    {
     "name": "stdout",
     "output_type": "stream",
     "text": [
      "El resultado es: (10.5, 44.0, 58.0)\n"
     ]
    }
   ],
   "source": [
    "def promedio_tuplas(tupla_de_tuplas):    \n",
    "    promedios = tuple(sum(tupla) / len(tupla) for tupla in tupla_de_tuplas)\n",
    "    return promedios\n",
    "\n",
    "tupla_entrada = tupla_de_tuplas\n",
    "resultado = promedio_tuplas(tupla_entrada)\n",
    "print(\"El resultado es:\", resultado)\n"
   ]
  },
  {
   "cell_type": "markdown",
   "id": "ccaca151-3ed2-4cbd-9b00-0aa06a0c5cb1",
   "metadata": {},
   "source": [
    "### 7. Escribir un programa que gestione las facturas pendientes de cobro de una empresa. Las facturas se almacenar´an en un diccionario donde la llave de cada factura ser´a el nu´mero de factura (debe utilizar un numero de 4 d´ıgitos) y el valor el coste de la factura. El programa debe preguntar al usuario si quiere an˜adir una nueva factura, pagar una existente o terminar. Si desea an˜adir una nueva factura se preguntar´a por el nu´mero de factura y su coste y se an˜adir´a al diccionario, para confirmar que la factura se ingreso correctamente el programa debe desplegar el diccionario completo. Si se desea pagar una factura se preguntar´a por el nu´mero de factura y se eliminar´a del diccionario. Despu´es de cada operaci´on el programa debe mostrar en pantalla la cantidad cobrada hasta el momento y la cantidad pendiente de cobro. Puede utilizar otras estructuras de datos como apoyo si lo considera necesario."
   ]
  },
  {
   "cell_type": "code",
   "execution_count": 35,
   "id": "e5aa8622-cae9-4ab3-9d36-ede5ba8d52d4",
   "metadata": {
    "tags": []
   },
   "outputs": [
    {
     "name": "stdout",
     "output_type": "stream",
     "text": [
      "\n",
      "Menú:\n",
      "1. Añadir nueva factura\n",
      "2. Pagar factura existente\n",
      "3. Terminar\n"
     ]
    },
    {
     "name": "stdin",
     "output_type": "stream",
     "text": [
      "Seleccione una opción:  1\n",
      "Ingrese el número de factura (4 dígitos):  3554\n",
      "Ingrese el costo de la factura:  56\n"
     ]
    },
    {
     "name": "stdout",
     "output_type": "stream",
     "text": [
      "Factura añadida correctamente.\n",
      "Estado de cuentas actualizado:\n",
      "Cantidad cobrada hasta el momento: 56.0\n",
      "Cantidad pendiente de cobro: 0.0\n",
      "Facturas pendientes: {'3554': 56.0}\n",
      "\n",
      "Menú:\n",
      "1. Añadir nueva factura\n",
      "2. Pagar factura existente\n",
      "3. Terminar\n"
     ]
    },
    {
     "name": "stdin",
     "output_type": "stream",
     "text": [
      "Seleccione una opción:  2\n",
      "Ingrese el número de factura a pagar:  3456\n"
     ]
    },
    {
     "name": "stdout",
     "output_type": "stream",
     "text": [
      "La factura ingresada no existe en la lista.\n",
      "\n",
      "Menú:\n",
      "1. Añadir nueva factura\n",
      "2. Pagar factura existente\n",
      "3. Terminar\n"
     ]
    },
    {
     "name": "stdin",
     "output_type": "stream",
     "text": [
      "Seleccione una opción:  3\n"
     ]
    },
    {
     "name": "stdout",
     "output_type": "stream",
     "text": [
      "Terminando programa...\n"
     ]
    }
   ],
   "source": [
    "def mostrar_estado_cuentas(facturas):\n",
    "    total_cobrado = sum(facturas.values())\n",
    "    total_pendiente = total_facturas - total_cobrado\n",
    "    print(\"Cantidad cobrada hasta el momento:\", total_cobrado)\n",
    "    print(\"Cantidad pendiente de cobro:\", total_pendiente)\n",
    "\n",
    "facturas = {}\n",
    "total_facturas = 0\n",
    "\n",
    "while True:\n",
    "    print(\"\\nMenú:\")\n",
    "    print(\"1. Añadir nueva factura\")\n",
    "    print(\"2. Pagar factura existente\")\n",
    "    print(\"3. Terminar\")\n",
    "\n",
    "    opcion = input(\"Seleccione una opción: \")\n",
    "\n",
    "    if opcion == '1':\n",
    "        numero_factura = input(\"Ingrese el número de factura (4 dígitos): \")\n",
    "        costo_factura = float(input(\"Ingrese el costo de la factura: \"))\n",
    "        facturas[numero_factura] = costo_factura\n",
    "        total_facturas += costo_factura\n",
    "        print(\"Factura añadida correctamente.\")\n",
    "        print(\"Estado de cuentas actualizado:\")\n",
    "        mostrar_estado_cuentas(facturas)\n",
    "        print(\"Facturas pendientes:\", facturas)\n",
    "    elif opcion == '2':\n",
    "        numero_factura = input(\"Ingrese el número de factura a pagar: \")\n",
    "        if numero_factura in facturas:\n",
    "            costo_factura = facturas.pop(numero_factura)\n",
    "            total_facturas -= costo_factura\n",
    "            print(\"Factura pagada correctamente.\")\n",
    "            print(\"Estado de cuentas actualizado:\")\n",
    "            mostrar_estado_cuentas(facturas)\n",
    "            print(\"Facturas pendientes:\", facturas)\n",
    "        else:\n",
    "            print(\"La factura ingresada no existe en la lista.\")\n",
    "    elif opcion == '3':\n",
    "        print(\"Terminando programa...\")\n",
    "        break\n",
    "    else:\n",
    "        print(\"Opción no válida. Por favor, seleccione una opción válida.\")\n"
   ]
  },
  {
   "cell_type": "markdown",
   "id": "46907827-c0f5-4384-b709-bc47c968f752",
   "metadata": {},
   "source": [
    "### 8. Haga una funci´on en Python, que cree un set con todas las cartas de una baraja de Poc\u0002ker utilizando el siguiente formato: Tipo-Numero. Utilice las letras T para tr´eboles, C para corazones, P para picas y E para espadas. Para los nu´meros utilice la numeraci´on del 1 al 13. Por ejemplo E13 - ser´ıa Rey de Espadas, P01 ser´ıa As de Picas, T05 ser´ıa cinco de Tr´eboles. Posteriormente cree una funci´on que dado el conjunto anterior cree dos sets nuevos de cartas, cada conjunto debe tener una cantidad variable de elementos, puede utilizar nu´meros aleato\u0002rios enteros para definir la longitud de los conjuntos. Adicionalmente, deber´a calcular la probabilidad de la intersecci´on de ambos conjuntos y de\u0002muestre si son eventos independientes con la regla del producto. Para concluir, calcule probabilidad de la uni´on de ambos conjuntos y demuestre que se cumplela regla de la adici´on."
   ]
  },
  {
   "cell_type": "code",
   "execution_count": null,
   "id": "7c1d4882-a1c7-43d3-b9aa-2a44d8555557",
   "metadata": {},
   "outputs": [],
   "source": []
  }
 ],
 "metadata": {
  "kernelspec": {
   "display_name": "Python 3 (ipykernel)",
   "language": "python",
   "name": "python3"
  },
  "language_info": {
   "codemirror_mode": {
    "name": "ipython",
    "version": 3
   },
   "file_extension": ".py",
   "mimetype": "text/x-python",
   "name": "python",
   "nbconvert_exporter": "python",
   "pygments_lexer": "ipython3",
   "version": "3.11.5"
  }
 },
 "nbformat": 4,
 "nbformat_minor": 5
}
